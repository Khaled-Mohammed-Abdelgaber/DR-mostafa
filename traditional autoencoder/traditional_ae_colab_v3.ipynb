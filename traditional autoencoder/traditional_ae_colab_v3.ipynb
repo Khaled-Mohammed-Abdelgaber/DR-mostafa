{
  "metadata": {
    "kernelspec": {
      "language": "python",
      "display_name": "Python 3",
      "name": "python3"
    },
    "language_info": {
      "pygments_lexer": "ipython3",
      "nbconvert_exporter": "python",
      "version": "3.6.4",
      "file_extension": ".py",
      "codemirror_mode": {
        "name": "ipython",
        "version": 3
      },
      "name": "python",
      "mimetype": "text/x-python"
    },
    "colab": {
      "provenance": [],
      "include_colab_link": true
    },
    "accelerator": "GPU"
  },
  "nbformat_minor": 0,
  "nbformat": 4,
  "cells": [
    {
      "cell_type": "markdown",
      "metadata": {
        "id": "view-in-github",
        "colab_type": "text"
      },
      "source": [
        "<a href=\"https://colab.research.google.com/github/Khaled-Mohammed-Abdelgaber/DR-mostafa/blob/main/traditional%20autoencoder/traditional_ae_colab_v3.ipynb\" target=\"_parent\"><img src=\"https://colab.research.google.com/assets/colab-badge.svg\" alt=\"Open In Colab\"/></a>"
      ]
    },
    {
      "cell_type": "markdown",
      "source": [
        "# related to kaggle "
      ],
      "metadata": {
        "id": "RqU58pJI2lC9"
      }
    },
    {
      "cell_type": "code",
      "source": [
        "!conda install -y gdown"
      ],
      "metadata": {
        "id": "qGvmXB_wPJSU",
        "execution": {
          "iopub.status.busy": "2022-10-15T06:28:53.997504Z",
          "iopub.execute_input": "2022-10-15T06:28:53.998058Z",
          "iopub.status.idle": "2022-10-15T06:30:05.031296Z",
          "shell.execute_reply.started": "2022-10-15T06:28:53.997971Z",
          "shell.execute_reply": "2022-10-15T06:30:05.030065Z"
        },
        "trusted": true
      },
      "execution_count": null,
      "outputs": []
    },
    {
      "cell_type": "code",
      "source": [
        "#downloading first part of ECG\n",
        "!gdown https://drive.google.com/uc?id=1jt__DwKtdHOQypNVBjnp9SeaqGwoRazG"
      ],
      "metadata": {
        "execution": {
          "iopub.status.busy": "2022-10-15T06:30:05.034541Z",
          "iopub.execute_input": "2022-10-15T06:30:05.035206Z",
          "iopub.status.idle": "2022-10-15T06:30:28.094513Z",
          "shell.execute_reply.started": "2022-10-15T06:30:05.035163Z",
          "shell.execute_reply": "2022-10-15T06:30:28.093276Z"
        },
        "trusted": true,
        "id": "yThxVcGbkJ8W"
      },
      "execution_count": null,
      "outputs": []
    },
    {
      "cell_type": "code",
      "source": [
        "#downloading first part of PPG  beats data\n",
        "!gdown https://drive.google.com/uc?id=1u-QWYMJ3h7bd2fWy5UmUgQtCtvmWge-K"
      ],
      "metadata": {
        "execution": {
          "iopub.status.busy": "2022-10-15T06:30:28.096711Z",
          "iopub.execute_input": "2022-10-15T06:30:28.097118Z",
          "iopub.status.idle": "2022-10-15T06:30:51.710393Z",
          "shell.execute_reply.started": "2022-10-15T06:30:28.097074Z",
          "shell.execute_reply": "2022-10-15T06:30:51.709258Z"
        },
        "trusted": true,
        "id": "XwbmK_qskJ8Z"
      },
      "execution_count": null,
      "outputs": []
    },
    {
      "cell_type": "code",
      "source": [
        "#downloading second part of ecg  beats data\n",
        "!gdown https://drive.google.com/uc?id=1K1-xeL4RKmURSsppi0X7s7U4TQVOy7eF   "
      ],
      "metadata": {
        "execution": {
          "iopub.status.busy": "2022-10-15T06:42:32.908273Z",
          "iopub.execute_input": "2022-10-15T06:42:32.908665Z",
          "iopub.status.idle": "2022-10-15T06:43:00.456032Z",
          "shell.execute_reply.started": "2022-10-15T06:42:32.908631Z",
          "shell.execute_reply": "2022-10-15T06:43:00.454745Z"
        },
        "trusted": true,
        "id": "VStgHbEIkJ8c"
      },
      "execution_count": null,
      "outputs": []
    },
    {
      "cell_type": "code",
      "source": [
        "#downloading third part of ecg  beats data\n",
        "!gdown https://drive.google.com/uc?id=1w-2QFZ5CnchAm0JkwfQ-lLBTwLYO4Hc0   "
      ],
      "metadata": {
        "execution": {
          "iopub.status.busy": "2022-10-15T06:43:24.710031Z",
          "iopub.execute_input": "2022-10-15T06:43:24.710486Z",
          "iopub.status.idle": "2022-10-15T06:43:33.999280Z",
          "shell.execute_reply.started": "2022-10-15T06:43:24.710439Z",
          "shell.execute_reply": "2022-10-15T06:43:33.998143Z"
        },
        "trusted": true,
        "id": "lazCZ2-ckJ8d"
      },
      "execution_count": null,
      "outputs": []
    },
    {
      "cell_type": "code",
      "source": [
        "#downloading fourth part of ecg  beats data\n",
        "!gdown https://drive.google.com/uc?id=13Y7gLQb3FNWsRlQ8DUp5JP9UUttjytQm"
      ],
      "metadata": {
        "execution": {
          "iopub.status.busy": "2022-10-15T06:43:34.002218Z",
          "iopub.execute_input": "2022-10-15T06:43:34.002942Z",
          "iopub.status.idle": "2022-10-15T06:43:58.547307Z",
          "shell.execute_reply.started": "2022-10-15T06:43:34.002899Z",
          "shell.execute_reply": "2022-10-15T06:43:58.546149Z"
        },
        "trusted": true,
        "id": "j8TIowTskJ8f"
      },
      "execution_count": null,
      "outputs": []
    },
    {
      "cell_type": "code",
      "source": [
        "#downloading second part of PPG peak to peak beats data\n",
        "!gdown https://drive.google.com/uc?id=1F086tcERdEOcsbvqRmhN6PGX6NVZqX3P"
      ],
      "metadata": {
        "execution": {
          "iopub.status.busy": "2022-10-15T06:43:58.550828Z",
          "iopub.execute_input": "2022-10-15T06:43:58.551157Z",
          "iopub.status.idle": "2022-10-15T06:44:25.818467Z",
          "shell.execute_reply.started": "2022-10-15T06:43:58.551125Z",
          "shell.execute_reply": "2022-10-15T06:44:25.817284Z"
        },
        "trusted": true,
        "id": "J03Hojc8kJ8h"
      },
      "execution_count": null,
      "outputs": []
    },
    {
      "cell_type": "code",
      "source": [
        "#downloading third part of PPG peak to peak beats data\n",
        "!gdown https://drive.google.com/uc?id=1LWxX-F5z177l6OEUS4V7nJxbJnpK4A5G"
      ],
      "metadata": {
        "execution": {
          "iopub.status.busy": "2022-10-15T06:44:25.820687Z",
          "iopub.execute_input": "2022-10-15T06:44:25.821113Z",
          "iopub.status.idle": "2022-10-15T06:44:49.042167Z",
          "shell.execute_reply.started": "2022-10-15T06:44:25.821063Z",
          "shell.execute_reply": "2022-10-15T06:44:49.041049Z"
        },
        "trusted": true,
        "id": "7NuhYlHykJ8l"
      },
      "execution_count": null,
      "outputs": []
    },
    {
      "cell_type": "code",
      "source": [
        "#downloading fourth part of PPG peak to peak beats data\n",
        "!gdown https://drive.google.com/uc?id=1faRVH5KPR-q4gxhS86DFfkStCxYo5tHd"
      ],
      "metadata": {
        "execution": {
          "iopub.status.busy": "2022-10-15T06:44:49.044114Z",
          "iopub.execute_input": "2022-10-15T06:44:49.044426Z",
          "iopub.status.idle": "2022-10-15T06:45:14.319699Z",
          "shell.execute_reply.started": "2022-10-15T06:44:49.044397Z",
          "shell.execute_reply": "2022-10-15T06:45:14.318595Z"
        },
        "trusted": true,
        "id": "CHYtzIlxkJ8o"
      },
      "execution_count": null,
      "outputs": []
    },
    {
      "cell_type": "markdown",
      "source": [
        "# Downloading model from gdrive"
      ],
      "metadata": {
        "id": "q-AOyrj4kJ8s"
      }
    },
    {
      "cell_type": "code",
      "source": [
        "!gdown https://drive.google.com/uc?id=1MFNll8OlSnXVVoJsiACEgsTjvdaRBRPU\n"
      ],
      "metadata": {
        "id": "HRkmORF_kJ8x"
      },
      "execution_count": null,
      "outputs": []
    },
    {
      "cell_type": "code",
      "source": [
        "import os\n",
        "\n",
        "# folder path\n",
        "dir_path = r'./'\n",
        "\n",
        "# list to store files\n",
        "res = []\n",
        "\n",
        "# Iterate directory\n",
        "for path in os.listdir(dir_path):\n",
        "    # check if current path is a file\n",
        "    if os.path.isfile(os.path.join(dir_path, path)):\n",
        "        res.append(path)\n",
        "print(res)"
      ],
      "metadata": {
        "execution": {
          "iopub.status.busy": "2022-10-15T08:49:19.124014Z",
          "iopub.execute_input": "2022-10-15T08:49:19.124409Z",
          "iopub.status.idle": "2022-10-15T08:49:19.132871Z",
          "shell.execute_reply.started": "2022-10-15T08:49:19.124377Z",
          "shell.execute_reply": "2022-10-15T08:49:19.131653Z"
        },
        "trusted": true,
        "id": "uQmVeow1kJ80"
      },
      "execution_count": null,
      "outputs": []
    },
    {
      "cell_type": "code",
      "source": [
        "\"PPG\" in 'Part_4_PPG_beats_P2P_Aug_2022.csv'"
      ],
      "metadata": {
        "execution": {
          "iopub.status.busy": "2022-10-15T08:49:22.060742Z",
          "iopub.execute_input": "2022-10-15T08:49:22.061768Z",
          "iopub.status.idle": "2022-10-15T08:49:22.071191Z",
          "shell.execute_reply.started": "2022-10-15T08:49:22.061718Z",
          "shell.execute_reply": "2022-10-15T08:49:22.070044Z"
        },
        "trusted": true,
        "id": "paT6o83KkJ82"
      },
      "execution_count": null,
      "outputs": []
    },
    {
      "cell_type": "code",
      "source": [
        "res_ecg = []\n",
        "res_ppg = []\n",
        "for i in res:\n",
        "    if (\"PPG\".lower() in i.lower()):\n",
        "        res_ppg.append(\"./\"+i)\n",
        "    elif (\"ECG\".lower() in i.lower()):\n",
        "        res_ecg.append(\"./\"+i)\n",
        "print(\"ECGs are \",res_ecg)\n",
        "print(\"*=+\"*30)\n",
        "print(\"PPGs are \",res_ppg)"
      ],
      "metadata": {
        "execution": {
          "iopub.status.busy": "2022-10-15T08:49:23.343949Z",
          "iopub.execute_input": "2022-10-15T08:49:23.344768Z",
          "iopub.status.idle": "2022-10-15T08:49:23.351490Z",
          "shell.execute_reply.started": "2022-10-15T08:49:23.344731Z",
          "shell.execute_reply": "2022-10-15T08:49:23.350413Z"
        },
        "trusted": true,
        "id": "VXcl4UBMkJ83"
      },
      "execution_count": null,
      "outputs": []
    },
    {
      "cell_type": "code",
      "source": [
        "ECG1 = pd.read_csv(res_ecg[0],names = np.arange(120))\n",
        "ECG2 = pd.read_csv(res_ecg[1],names = np.arange(120))\n",
        "ECG3 = pd.read_csv(res_ecg[2],names = np.arange(120))\n",
        "ECG4 = pd.read_csv(res_ecg[3],names = np.arange(120))\n",
        "\n",
        "PPG1 = pd.read_csv(res_ppg[0],names = np.arange(120))\n",
        "PPG2 = pd.read_csv(res_ppg[1],names = np.arange(120))\n",
        "PPG3 = pd.read_csv(res_ppg[2],names = np.arange(120))\n",
        "PPG4 = pd.read_csv(res_ppg[3],names = np.arange(120))"
      ],
      "metadata": {
        "id": "pMJcqd0dPMrA",
        "execution": {
          "iopub.status.busy": "2022-10-15T08:50:12.083782Z",
          "iopub.execute_input": "2022-10-15T08:50:12.084423Z",
          "iopub.status.idle": "2022-10-15T08:50:33.023828Z",
          "shell.execute_reply.started": "2022-10-15T08:50:12.084386Z",
          "shell.execute_reply": "2022-10-15T08:50:33.022736Z"
        },
        "trusted": true
      },
      "execution_count": null,
      "outputs": []
    },
    {
      "cell_type": "markdown",
      "source": [
        "#Colab part"
      ],
      "metadata": {
        "id": "V46JuTBD3G7M"
      }
    },
    {
      "cell_type": "code",
      "source": [
        "import tensorflow as tf\n",
        "from tensorflow import keras\n",
        "from tensorflow.keras import backend as K\n",
        "from keras.layers import *\n",
        "import pandas as pd\n",
        "from sklearn.model_selection import train_test_split\n",
        "import matplotlib.pyplot as plt\n",
        "from keras.layers import *\n",
        "from keras.models import Sequential\n",
        "from keras.callbacks import ModelCheckpoint\n",
        "import numpy as np\n",
        "from keras.models import Model\n",
        "from  IPython.display import clear_output\n",
        "import seaborn as sns\n",
        "#for Kmeans\n",
        "from sklearn.cluster import KMeans\n",
        "from sklearn.metrics import silhouette_score\n",
        "\n",
        "from sklearn.decomposition import PCA"
      ],
      "metadata": {
        "id": "QiXLsSncRF89",
        "execution": {
          "iopub.status.busy": "2022-10-15T08:49:27.954399Z",
          "iopub.execute_input": "2022-10-15T08:49:27.955103Z",
          "iopub.status.idle": "2022-10-15T08:49:33.081739Z",
          "shell.execute_reply.started": "2022-10-15T08:49:27.955065Z",
          "shell.execute_reply": "2022-10-15T08:49:33.080611Z"
        },
        "trusted": true
      },
      "execution_count": 1,
      "outputs": []
    },
    {
      "cell_type": "code",
      "source": [
        "from google.colab import drive\n",
        "drive.mount('/content/gdrive')"
      ],
      "metadata": {
        "colab": {
          "base_uri": "https://localhost:8080/"
        },
        "id": "urcak1aK3QUN",
        "outputId": "136dee98-2982-417e-ad7c-6ff5626a65f9"
      },
      "execution_count": 2,
      "outputs": [
        {
          "output_type": "stream",
          "name": "stdout",
          "text": [
            "Mounted at /content/gdrive\n"
          ]
        }
      ]
    },
    {
      "cell_type": "code",
      "source": [
        "ECG1 = pd.read_csv(\"/content/gdrive/MyDrive/most cleaned version beats/Peak2peak_signals&beats_Aug_2022/Part_1/p2p_beats/part_1_ECG_beats_P2P_Aug_2022.csv\",\n",
        "                   names = np.arange(120))\n",
        "PPG1 = pd.read_csv(\"/content/gdrive/MyDrive/most cleaned version beats/Peak2peak_signals&beats_Aug_2022/Part_1/p2p_beats/part_1_PPG_beats_P2P_Aug_2022.csv\",\n",
        "                   names = np.arange(120))\n",
        "\n",
        "\n",
        "PPG2 = pd.read_csv(\"/content/gdrive/MyDrive/most cleaned version beats/Peak2peak_signals&beats_Aug_2022/Part_2/p2p_beats/Part_2_PPG_beats_P2P_Aug_2022.csv\",\n",
        "                   names = np.arange(120))\n",
        "\n",
        "ECG2= pd.read_csv(\"/content/gdrive/MyDrive/most cleaned version beats/Peak2peak_signals&beats_Aug_2022/Part_2/p2p_beats/Part_2_ECG_beats_P2P_Aug_2022.csv\",\n",
        "                  names = np.arange(120))\n",
        "\n",
        "\n",
        "PPG3 = pd.read_csv(\"/content/gdrive/MyDrive/most cleaned version beats/Peak2peak_signals&beats_Aug_2022/Part_3/p2p_beats/Part_3_PPG_beats_P2P_Aug_2022.csv\",\n",
        "                   names = np.arange(120))\n",
        "ECG3= pd.read_csv(\"/content/gdrive/MyDrive/most cleaned version beats/Peak2peak_signals&beats_Aug_2022/Part_3/p2p_beats/Part_3_ECG_beats_P2P_Aug_2022.csv\",\n",
        "                  names = np.arange(120))\n",
        "\n",
        "\n",
        "PPG4 = pd.read_csv(\"/content/gdrive/MyDrive/most cleaned version beats/Peak2peak_signals&beats_Aug_2022/Part_4/p2p_beats/Part_4_PPG_beats_P2P_Aug_2022.csv\",\n",
        "                   names = np.arange(120))\n",
        "ECG4= pd.read_csv(\"/content/gdrive/MyDrive/most cleaned version beats/Peak2peak_signals&beats_Aug_2022/Part_4/p2p_beats/Part_4_ECG_beats_P2P_Aug_2022.csv\",\n",
        "                  names = np.arange(120))"
      ],
      "metadata": {
        "id": "9XkN2lFN3c3M"
      },
      "execution_count": 3,
      "outputs": []
    },
    {
      "cell_type": "code",
      "source": [
        "PPG2.head()"
      ],
      "metadata": {
        "colab": {
          "base_uri": "https://localhost:8080/",
          "height": 299
        },
        "id": "zSWPDzvR4UR7",
        "outputId": "411924a0-d67f-4b4c-a27e-7e60dc2f5dfb"
      },
      "execution_count": 4,
      "outputs": [
        {
          "output_type": "execute_result",
          "data": {
            "text/plain": [
              "      0        1        2        3        4        5        6        7    \\\n",
              "0  1.0000  0.99936  0.99342  0.98038  0.96353  0.94247  0.91710  0.88756   \n",
              "1  1.0000  0.99379  0.98255  0.96696  0.94685  0.92224  0.89306  0.85940   \n",
              "2  0.6994  0.69738  0.69147  0.68079  0.66662  0.65012  0.63086  0.60789   \n",
              "3  0.9778  0.97774  0.97085  0.95468  0.93467  0.90811  0.87914  0.85212   \n",
              "4  0.9368  0.93153  0.92007  0.90214  0.87864  0.85156  0.82178  0.79004   \n",
              "\n",
              "       8        9    ...      110      111      112      113      114  \\\n",
              "0  0.85714  0.82409  ...  0.52681  0.60618  0.67979  0.74262  0.79751   \n",
              "1  0.82271  0.78420  ...  0.52567  0.60321  0.67661  0.74411  0.80116   \n",
              "2  0.58268  0.55507  ...  0.59157  0.66460  0.73871  0.80598  0.86372   \n",
              "3  0.82253  0.78959  ...  0.67356  0.74047  0.79952  0.85645  0.90575   \n",
              "4  0.75420  0.71873  ...  0.65946  0.73651  0.80629  0.86763  0.91272   \n",
              "\n",
              "       115      116      117      118      119  \n",
              "0  0.84176  0.87296  0.89271  0.90317  0.90681  \n",
              "1  0.84753  0.88339  0.90873  0.92312  0.92853  \n",
              "2  0.91217  0.95106  0.97777  0.99347  1.00000  \n",
              "3  0.94486  0.97208  0.99032  0.99862  1.00000  \n",
              "4  0.94569  0.96969  0.98626  0.99596  1.00000  \n",
              "\n",
              "[5 rows x 120 columns]"
            ],
            "text/html": [
              "\n",
              "  <div id=\"df-aa07b070-3a6f-4cec-a048-01a8b96b48d5\">\n",
              "    <div class=\"colab-df-container\">\n",
              "      <div>\n",
              "<style scoped>\n",
              "    .dataframe tbody tr th:only-of-type {\n",
              "        vertical-align: middle;\n",
              "    }\n",
              "\n",
              "    .dataframe tbody tr th {\n",
              "        vertical-align: top;\n",
              "    }\n",
              "\n",
              "    .dataframe thead th {\n",
              "        text-align: right;\n",
              "    }\n",
              "</style>\n",
              "<table border=\"1\" class=\"dataframe\">\n",
              "  <thead>\n",
              "    <tr style=\"text-align: right;\">\n",
              "      <th></th>\n",
              "      <th>0</th>\n",
              "      <th>1</th>\n",
              "      <th>2</th>\n",
              "      <th>3</th>\n",
              "      <th>4</th>\n",
              "      <th>5</th>\n",
              "      <th>6</th>\n",
              "      <th>7</th>\n",
              "      <th>8</th>\n",
              "      <th>9</th>\n",
              "      <th>...</th>\n",
              "      <th>110</th>\n",
              "      <th>111</th>\n",
              "      <th>112</th>\n",
              "      <th>113</th>\n",
              "      <th>114</th>\n",
              "      <th>115</th>\n",
              "      <th>116</th>\n",
              "      <th>117</th>\n",
              "      <th>118</th>\n",
              "      <th>119</th>\n",
              "    </tr>\n",
              "  </thead>\n",
              "  <tbody>\n",
              "    <tr>\n",
              "      <th>0</th>\n",
              "      <td>1.0000</td>\n",
              "      <td>0.99936</td>\n",
              "      <td>0.99342</td>\n",
              "      <td>0.98038</td>\n",
              "      <td>0.96353</td>\n",
              "      <td>0.94247</td>\n",
              "      <td>0.91710</td>\n",
              "      <td>0.88756</td>\n",
              "      <td>0.85714</td>\n",
              "      <td>0.82409</td>\n",
              "      <td>...</td>\n",
              "      <td>0.52681</td>\n",
              "      <td>0.60618</td>\n",
              "      <td>0.67979</td>\n",
              "      <td>0.74262</td>\n",
              "      <td>0.79751</td>\n",
              "      <td>0.84176</td>\n",
              "      <td>0.87296</td>\n",
              "      <td>0.89271</td>\n",
              "      <td>0.90317</td>\n",
              "      <td>0.90681</td>\n",
              "    </tr>\n",
              "    <tr>\n",
              "      <th>1</th>\n",
              "      <td>1.0000</td>\n",
              "      <td>0.99379</td>\n",
              "      <td>0.98255</td>\n",
              "      <td>0.96696</td>\n",
              "      <td>0.94685</td>\n",
              "      <td>0.92224</td>\n",
              "      <td>0.89306</td>\n",
              "      <td>0.85940</td>\n",
              "      <td>0.82271</td>\n",
              "      <td>0.78420</td>\n",
              "      <td>...</td>\n",
              "      <td>0.52567</td>\n",
              "      <td>0.60321</td>\n",
              "      <td>0.67661</td>\n",
              "      <td>0.74411</td>\n",
              "      <td>0.80116</td>\n",
              "      <td>0.84753</td>\n",
              "      <td>0.88339</td>\n",
              "      <td>0.90873</td>\n",
              "      <td>0.92312</td>\n",
              "      <td>0.92853</td>\n",
              "    </tr>\n",
              "    <tr>\n",
              "      <th>2</th>\n",
              "      <td>0.6994</td>\n",
              "      <td>0.69738</td>\n",
              "      <td>0.69147</td>\n",
              "      <td>0.68079</td>\n",
              "      <td>0.66662</td>\n",
              "      <td>0.65012</td>\n",
              "      <td>0.63086</td>\n",
              "      <td>0.60789</td>\n",
              "      <td>0.58268</td>\n",
              "      <td>0.55507</td>\n",
              "      <td>...</td>\n",
              "      <td>0.59157</td>\n",
              "      <td>0.66460</td>\n",
              "      <td>0.73871</td>\n",
              "      <td>0.80598</td>\n",
              "      <td>0.86372</td>\n",
              "      <td>0.91217</td>\n",
              "      <td>0.95106</td>\n",
              "      <td>0.97777</td>\n",
              "      <td>0.99347</td>\n",
              "      <td>1.00000</td>\n",
              "    </tr>\n",
              "    <tr>\n",
              "      <th>3</th>\n",
              "      <td>0.9778</td>\n",
              "      <td>0.97774</td>\n",
              "      <td>0.97085</td>\n",
              "      <td>0.95468</td>\n",
              "      <td>0.93467</td>\n",
              "      <td>0.90811</td>\n",
              "      <td>0.87914</td>\n",
              "      <td>0.85212</td>\n",
              "      <td>0.82253</td>\n",
              "      <td>0.78959</td>\n",
              "      <td>...</td>\n",
              "      <td>0.67356</td>\n",
              "      <td>0.74047</td>\n",
              "      <td>0.79952</td>\n",
              "      <td>0.85645</td>\n",
              "      <td>0.90575</td>\n",
              "      <td>0.94486</td>\n",
              "      <td>0.97208</td>\n",
              "      <td>0.99032</td>\n",
              "      <td>0.99862</td>\n",
              "      <td>1.00000</td>\n",
              "    </tr>\n",
              "    <tr>\n",
              "      <th>4</th>\n",
              "      <td>0.9368</td>\n",
              "      <td>0.93153</td>\n",
              "      <td>0.92007</td>\n",
              "      <td>0.90214</td>\n",
              "      <td>0.87864</td>\n",
              "      <td>0.85156</td>\n",
              "      <td>0.82178</td>\n",
              "      <td>0.79004</td>\n",
              "      <td>0.75420</td>\n",
              "      <td>0.71873</td>\n",
              "      <td>...</td>\n",
              "      <td>0.65946</td>\n",
              "      <td>0.73651</td>\n",
              "      <td>0.80629</td>\n",
              "      <td>0.86763</td>\n",
              "      <td>0.91272</td>\n",
              "      <td>0.94569</td>\n",
              "      <td>0.96969</td>\n",
              "      <td>0.98626</td>\n",
              "      <td>0.99596</td>\n",
              "      <td>1.00000</td>\n",
              "    </tr>\n",
              "  </tbody>\n",
              "</table>\n",
              "<p>5 rows × 120 columns</p>\n",
              "</div>\n",
              "      <button class=\"colab-df-convert\" onclick=\"convertToInteractive('df-aa07b070-3a6f-4cec-a048-01a8b96b48d5')\"\n",
              "              title=\"Convert this dataframe to an interactive table.\"\n",
              "              style=\"display:none;\">\n",
              "        \n",
              "  <svg xmlns=\"http://www.w3.org/2000/svg\" height=\"24px\"viewBox=\"0 0 24 24\"\n",
              "       width=\"24px\">\n",
              "    <path d=\"M0 0h24v24H0V0z\" fill=\"none\"/>\n",
              "    <path d=\"M18.56 5.44l.94 2.06.94-2.06 2.06-.94-2.06-.94-.94-2.06-.94 2.06-2.06.94zm-11 1L8.5 8.5l.94-2.06 2.06-.94-2.06-.94L8.5 2.5l-.94 2.06-2.06.94zm10 10l.94 2.06.94-2.06 2.06-.94-2.06-.94-.94-2.06-.94 2.06-2.06.94z\"/><path d=\"M17.41 7.96l-1.37-1.37c-.4-.4-.92-.59-1.43-.59-.52 0-1.04.2-1.43.59L10.3 9.45l-7.72 7.72c-.78.78-.78 2.05 0 2.83L4 21.41c.39.39.9.59 1.41.59.51 0 1.02-.2 1.41-.59l7.78-7.78 2.81-2.81c.8-.78.8-2.07 0-2.86zM5.41 20L4 18.59l7.72-7.72 1.47 1.35L5.41 20z\"/>\n",
              "  </svg>\n",
              "      </button>\n",
              "      \n",
              "  <style>\n",
              "    .colab-df-container {\n",
              "      display:flex;\n",
              "      flex-wrap:wrap;\n",
              "      gap: 12px;\n",
              "    }\n",
              "\n",
              "    .colab-df-convert {\n",
              "      background-color: #E8F0FE;\n",
              "      border: none;\n",
              "      border-radius: 50%;\n",
              "      cursor: pointer;\n",
              "      display: none;\n",
              "      fill: #1967D2;\n",
              "      height: 32px;\n",
              "      padding: 0 0 0 0;\n",
              "      width: 32px;\n",
              "    }\n",
              "\n",
              "    .colab-df-convert:hover {\n",
              "      background-color: #E2EBFA;\n",
              "      box-shadow: 0px 1px 2px rgba(60, 64, 67, 0.3), 0px 1px 3px 1px rgba(60, 64, 67, 0.15);\n",
              "      fill: #174EA6;\n",
              "    }\n",
              "\n",
              "    [theme=dark] .colab-df-convert {\n",
              "      background-color: #3B4455;\n",
              "      fill: #D2E3FC;\n",
              "    }\n",
              "\n",
              "    [theme=dark] .colab-df-convert:hover {\n",
              "      background-color: #434B5C;\n",
              "      box-shadow: 0px 1px 3px 1px rgba(0, 0, 0, 0.15);\n",
              "      filter: drop-shadow(0px 1px 2px rgba(0, 0, 0, 0.3));\n",
              "      fill: #FFFFFF;\n",
              "    }\n",
              "  </style>\n",
              "\n",
              "      <script>\n",
              "        const buttonEl =\n",
              "          document.querySelector('#df-aa07b070-3a6f-4cec-a048-01a8b96b48d5 button.colab-df-convert');\n",
              "        buttonEl.style.display =\n",
              "          google.colab.kernel.accessAllowed ? 'block' : 'none';\n",
              "\n",
              "        async function convertToInteractive(key) {\n",
              "          const element = document.querySelector('#df-aa07b070-3a6f-4cec-a048-01a8b96b48d5');\n",
              "          const dataTable =\n",
              "            await google.colab.kernel.invokeFunction('convertToInteractive',\n",
              "                                                     [key], {});\n",
              "          if (!dataTable) return;\n",
              "\n",
              "          const docLinkHtml = 'Like what you see? Visit the ' +\n",
              "            '<a target=\"_blank\" href=https://colab.research.google.com/notebooks/data_table.ipynb>data table notebook</a>'\n",
              "            + ' to learn more about interactive tables.';\n",
              "          element.innerHTML = '';\n",
              "          dataTable['output_type'] = 'display_data';\n",
              "          await google.colab.output.renderOutput(dataTable, element);\n",
              "          const docLink = document.createElement('div');\n",
              "          docLink.innerHTML = docLinkHtml;\n",
              "          element.appendChild(docLink);\n",
              "        }\n",
              "      </script>\n",
              "    </div>\n",
              "  </div>\n",
              "  "
            ]
          },
          "metadata": {},
          "execution_count": 4
        }
      ]
    },
    {
      "cell_type": "code",
      "source": [
        "PPG = pd.concat([PPG1 , PPG2,PPG3,PPG4],keys = list(map(str,list(range(0,120)))) , ignore_index = True)\n"
      ],
      "metadata": {
        "id": "d7VimsKU2HGa",
        "execution": {
          "iopub.status.busy": "2022-10-15T08:50:33.026277Z",
          "iopub.execute_input": "2022-10-15T08:50:33.026714Z",
          "iopub.status.idle": "2022-10-15T08:50:33.261481Z",
          "shell.execute_reply.started": "2022-10-15T08:50:33.026676Z",
          "shell.execute_reply": "2022-10-15T08:50:33.260347Z"
        },
        "trusted": true
      },
      "execution_count": 5,
      "outputs": []
    },
    {
      "cell_type": "code",
      "source": [
        "ECG = pd.concat([ECG1 , ECG2,ECG3,ECG4],keys = list(map(str,list(range(0,120)))), ignore_index = True )"
      ],
      "metadata": {
        "id": "I43vYi0Z2p77",
        "execution": {
          "iopub.status.busy": "2022-10-15T08:50:33.262973Z",
          "iopub.execute_input": "2022-10-15T08:50:33.263585Z",
          "iopub.status.idle": "2022-10-15T08:50:33.499980Z",
          "shell.execute_reply.started": "2022-10-15T08:50:33.263522Z",
          "shell.execute_reply": "2022-10-15T08:50:33.498866Z"
        },
        "trusted": true
      },
      "execution_count": 6,
      "outputs": []
    },
    {
      "cell_type": "code",
      "source": [
        "PPG.shape,PPG1.shape,PPG2.shape"
      ],
      "metadata": {
        "id": "pkFypbHH2hlH",
        "execution": {
          "iopub.status.busy": "2022-10-15T08:50:33.502646Z",
          "iopub.execute_input": "2022-10-15T08:50:33.503055Z",
          "iopub.status.idle": "2022-10-15T08:50:33.510442Z",
          "shell.execute_reply.started": "2022-10-15T08:50:33.503017Z",
          "shell.execute_reply": "2022-10-15T08:50:33.509340Z"
        },
        "trusted": true,
        "colab": {
          "base_uri": "https://localhost:8080/"
        },
        "outputId": "5fd2e113-77e5-41c0-ad73-9c57f59b0c6e"
      },
      "execution_count": 7,
      "outputs": [
        {
          "output_type": "execute_result",
          "data": {
            "text/plain": [
              "((691570, 120), (154540, 120), (205320, 120))"
            ]
          },
          "metadata": {},
          "execution_count": 7
        }
      ]
    },
    {
      "cell_type": "code",
      "source": [
        "PPG.head()"
      ],
      "metadata": {
        "id": "E76BdijHReve",
        "execution": {
          "iopub.status.busy": "2022-10-15T08:50:33.512279Z",
          "iopub.execute_input": "2022-10-15T08:50:33.512837Z",
          "iopub.status.idle": "2022-10-15T08:50:33.522703Z",
          "shell.execute_reply.started": "2022-10-15T08:50:33.512793Z",
          "shell.execute_reply": "2022-10-15T08:50:33.519584Z"
        },
        "trusted": true,
        "colab": {
          "base_uri": "https://localhost:8080/",
          "height": 299
        },
        "outputId": "2560bddd-b9c5-4b69-f66e-991d97e44ab0"
      },
      "execution_count": 8,
      "outputs": [
        {
          "output_type": "execute_result",
          "data": {
            "text/plain": [
              "       0        1        2        3        4        5        6        7    \\\n",
              "0  1.00000  0.99971  0.99898  0.99602  0.99104  0.98427  0.97570  0.96534   \n",
              "1  1.00000  0.99986  0.99938  0.99671  0.99211  0.98582  0.97781  0.96817   \n",
              "2  1.00000  0.99805  0.99416  0.98829  0.98048  0.97107  0.96004  0.94735   \n",
              "3  0.91394  0.91331  0.91198  0.90826  0.90231  0.89456  0.88500  0.87378   \n",
              "4  0.91259  0.91280  0.91298  0.91087  0.90681  0.90120  0.89398  0.88514   \n",
              "\n",
              "       8        9    ...      110      111      112      113      114  \\\n",
              "0  0.95313  0.93891  ...  0.86711  0.89480  0.91637  0.93424  0.95006   \n",
              "1  0.95657  0.94259  ...  0.87321  0.89588  0.91331  0.92665  0.93742   \n",
              "2  0.93303  0.91708  ...  0.83197  0.86486  0.89022  0.91013  0.92479   \n",
              "3  0.86088  0.84626  ...  0.86086  0.89582  0.92488  0.94820  0.96554   \n",
              "4  0.87469  0.86219  ...  0.91012  0.93643  0.95764  0.97392  0.98525   \n",
              "\n",
              "       115      116      117      118      119  \n",
              "0  0.96290  0.97265  0.97946  0.98329  0.98515  \n",
              "1  0.94541  0.95071  0.95352  0.95363  0.95355  \n",
              "2  0.93626  0.94502  0.95083  0.95364  0.95499  \n",
              "3  0.97851  0.98723  0.99360  0.99787  1.00000  \n",
              "4  0.99285  0.99716  0.99942  0.99987  1.00000  \n",
              "\n",
              "[5 rows x 120 columns]"
            ],
            "text/html": [
              "\n",
              "  <div id=\"df-c08a0dcc-8a59-44c8-8b9f-6a9493f8bcf2\">\n",
              "    <div class=\"colab-df-container\">\n",
              "      <div>\n",
              "<style scoped>\n",
              "    .dataframe tbody tr th:only-of-type {\n",
              "        vertical-align: middle;\n",
              "    }\n",
              "\n",
              "    .dataframe tbody tr th {\n",
              "        vertical-align: top;\n",
              "    }\n",
              "\n",
              "    .dataframe thead th {\n",
              "        text-align: right;\n",
              "    }\n",
              "</style>\n",
              "<table border=\"1\" class=\"dataframe\">\n",
              "  <thead>\n",
              "    <tr style=\"text-align: right;\">\n",
              "      <th></th>\n",
              "      <th>0</th>\n",
              "      <th>1</th>\n",
              "      <th>2</th>\n",
              "      <th>3</th>\n",
              "      <th>4</th>\n",
              "      <th>5</th>\n",
              "      <th>6</th>\n",
              "      <th>7</th>\n",
              "      <th>8</th>\n",
              "      <th>9</th>\n",
              "      <th>...</th>\n",
              "      <th>110</th>\n",
              "      <th>111</th>\n",
              "      <th>112</th>\n",
              "      <th>113</th>\n",
              "      <th>114</th>\n",
              "      <th>115</th>\n",
              "      <th>116</th>\n",
              "      <th>117</th>\n",
              "      <th>118</th>\n",
              "      <th>119</th>\n",
              "    </tr>\n",
              "  </thead>\n",
              "  <tbody>\n",
              "    <tr>\n",
              "      <th>0</th>\n",
              "      <td>1.00000</td>\n",
              "      <td>0.99971</td>\n",
              "      <td>0.99898</td>\n",
              "      <td>0.99602</td>\n",
              "      <td>0.99104</td>\n",
              "      <td>0.98427</td>\n",
              "      <td>0.97570</td>\n",
              "      <td>0.96534</td>\n",
              "      <td>0.95313</td>\n",
              "      <td>0.93891</td>\n",
              "      <td>...</td>\n",
              "      <td>0.86711</td>\n",
              "      <td>0.89480</td>\n",
              "      <td>0.91637</td>\n",
              "      <td>0.93424</td>\n",
              "      <td>0.95006</td>\n",
              "      <td>0.96290</td>\n",
              "      <td>0.97265</td>\n",
              "      <td>0.97946</td>\n",
              "      <td>0.98329</td>\n",
              "      <td>0.98515</td>\n",
              "    </tr>\n",
              "    <tr>\n",
              "      <th>1</th>\n",
              "      <td>1.00000</td>\n",
              "      <td>0.99986</td>\n",
              "      <td>0.99938</td>\n",
              "      <td>0.99671</td>\n",
              "      <td>0.99211</td>\n",
              "      <td>0.98582</td>\n",
              "      <td>0.97781</td>\n",
              "      <td>0.96817</td>\n",
              "      <td>0.95657</td>\n",
              "      <td>0.94259</td>\n",
              "      <td>...</td>\n",
              "      <td>0.87321</td>\n",
              "      <td>0.89588</td>\n",
              "      <td>0.91331</td>\n",
              "      <td>0.92665</td>\n",
              "      <td>0.93742</td>\n",
              "      <td>0.94541</td>\n",
              "      <td>0.95071</td>\n",
              "      <td>0.95352</td>\n",
              "      <td>0.95363</td>\n",
              "      <td>0.95355</td>\n",
              "    </tr>\n",
              "    <tr>\n",
              "      <th>2</th>\n",
              "      <td>1.00000</td>\n",
              "      <td>0.99805</td>\n",
              "      <td>0.99416</td>\n",
              "      <td>0.98829</td>\n",
              "      <td>0.98048</td>\n",
              "      <td>0.97107</td>\n",
              "      <td>0.96004</td>\n",
              "      <td>0.94735</td>\n",
              "      <td>0.93303</td>\n",
              "      <td>0.91708</td>\n",
              "      <td>...</td>\n",
              "      <td>0.83197</td>\n",
              "      <td>0.86486</td>\n",
              "      <td>0.89022</td>\n",
              "      <td>0.91013</td>\n",
              "      <td>0.92479</td>\n",
              "      <td>0.93626</td>\n",
              "      <td>0.94502</td>\n",
              "      <td>0.95083</td>\n",
              "      <td>0.95364</td>\n",
              "      <td>0.95499</td>\n",
              "    </tr>\n",
              "    <tr>\n",
              "      <th>3</th>\n",
              "      <td>0.91394</td>\n",
              "      <td>0.91331</td>\n",
              "      <td>0.91198</td>\n",
              "      <td>0.90826</td>\n",
              "      <td>0.90231</td>\n",
              "      <td>0.89456</td>\n",
              "      <td>0.88500</td>\n",
              "      <td>0.87378</td>\n",
              "      <td>0.86088</td>\n",
              "      <td>0.84626</td>\n",
              "      <td>...</td>\n",
              "      <td>0.86086</td>\n",
              "      <td>0.89582</td>\n",
              "      <td>0.92488</td>\n",
              "      <td>0.94820</td>\n",
              "      <td>0.96554</td>\n",
              "      <td>0.97851</td>\n",
              "      <td>0.98723</td>\n",
              "      <td>0.99360</td>\n",
              "      <td>0.99787</td>\n",
              "      <td>1.00000</td>\n",
              "    </tr>\n",
              "    <tr>\n",
              "      <th>4</th>\n",
              "      <td>0.91259</td>\n",
              "      <td>0.91280</td>\n",
              "      <td>0.91298</td>\n",
              "      <td>0.91087</td>\n",
              "      <td>0.90681</td>\n",
              "      <td>0.90120</td>\n",
              "      <td>0.89398</td>\n",
              "      <td>0.88514</td>\n",
              "      <td>0.87469</td>\n",
              "      <td>0.86219</td>\n",
              "      <td>...</td>\n",
              "      <td>0.91012</td>\n",
              "      <td>0.93643</td>\n",
              "      <td>0.95764</td>\n",
              "      <td>0.97392</td>\n",
              "      <td>0.98525</td>\n",
              "      <td>0.99285</td>\n",
              "      <td>0.99716</td>\n",
              "      <td>0.99942</td>\n",
              "      <td>0.99987</td>\n",
              "      <td>1.00000</td>\n",
              "    </tr>\n",
              "  </tbody>\n",
              "</table>\n",
              "<p>5 rows × 120 columns</p>\n",
              "</div>\n",
              "      <button class=\"colab-df-convert\" onclick=\"convertToInteractive('df-c08a0dcc-8a59-44c8-8b9f-6a9493f8bcf2')\"\n",
              "              title=\"Convert this dataframe to an interactive table.\"\n",
              "              style=\"display:none;\">\n",
              "        \n",
              "  <svg xmlns=\"http://www.w3.org/2000/svg\" height=\"24px\"viewBox=\"0 0 24 24\"\n",
              "       width=\"24px\">\n",
              "    <path d=\"M0 0h24v24H0V0z\" fill=\"none\"/>\n",
              "    <path d=\"M18.56 5.44l.94 2.06.94-2.06 2.06-.94-2.06-.94-.94-2.06-.94 2.06-2.06.94zm-11 1L8.5 8.5l.94-2.06 2.06-.94-2.06-.94L8.5 2.5l-.94 2.06-2.06.94zm10 10l.94 2.06.94-2.06 2.06-.94-2.06-.94-.94-2.06-.94 2.06-2.06.94z\"/><path d=\"M17.41 7.96l-1.37-1.37c-.4-.4-.92-.59-1.43-.59-.52 0-1.04.2-1.43.59L10.3 9.45l-7.72 7.72c-.78.78-.78 2.05 0 2.83L4 21.41c.39.39.9.59 1.41.59.51 0 1.02-.2 1.41-.59l7.78-7.78 2.81-2.81c.8-.78.8-2.07 0-2.86zM5.41 20L4 18.59l7.72-7.72 1.47 1.35L5.41 20z\"/>\n",
              "  </svg>\n",
              "      </button>\n",
              "      \n",
              "  <style>\n",
              "    .colab-df-container {\n",
              "      display:flex;\n",
              "      flex-wrap:wrap;\n",
              "      gap: 12px;\n",
              "    }\n",
              "\n",
              "    .colab-df-convert {\n",
              "      background-color: #E8F0FE;\n",
              "      border: none;\n",
              "      border-radius: 50%;\n",
              "      cursor: pointer;\n",
              "      display: none;\n",
              "      fill: #1967D2;\n",
              "      height: 32px;\n",
              "      padding: 0 0 0 0;\n",
              "      width: 32px;\n",
              "    }\n",
              "\n",
              "    .colab-df-convert:hover {\n",
              "      background-color: #E2EBFA;\n",
              "      box-shadow: 0px 1px 2px rgba(60, 64, 67, 0.3), 0px 1px 3px 1px rgba(60, 64, 67, 0.15);\n",
              "      fill: #174EA6;\n",
              "    }\n",
              "\n",
              "    [theme=dark] .colab-df-convert {\n",
              "      background-color: #3B4455;\n",
              "      fill: #D2E3FC;\n",
              "    }\n",
              "\n",
              "    [theme=dark] .colab-df-convert:hover {\n",
              "      background-color: #434B5C;\n",
              "      box-shadow: 0px 1px 3px 1px rgba(0, 0, 0, 0.15);\n",
              "      filter: drop-shadow(0px 1px 2px rgba(0, 0, 0, 0.3));\n",
              "      fill: #FFFFFF;\n",
              "    }\n",
              "  </style>\n",
              "\n",
              "      <script>\n",
              "        const buttonEl =\n",
              "          document.querySelector('#df-c08a0dcc-8a59-44c8-8b9f-6a9493f8bcf2 button.colab-df-convert');\n",
              "        buttonEl.style.display =\n",
              "          google.colab.kernel.accessAllowed ? 'block' : 'none';\n",
              "\n",
              "        async function convertToInteractive(key) {\n",
              "          const element = document.querySelector('#df-c08a0dcc-8a59-44c8-8b9f-6a9493f8bcf2');\n",
              "          const dataTable =\n",
              "            await google.colab.kernel.invokeFunction('convertToInteractive',\n",
              "                                                     [key], {});\n",
              "          if (!dataTable) return;\n",
              "\n",
              "          const docLinkHtml = 'Like what you see? Visit the ' +\n",
              "            '<a target=\"_blank\" href=https://colab.research.google.com/notebooks/data_table.ipynb>data table notebook</a>'\n",
              "            + ' to learn more about interactive tables.';\n",
              "          element.innerHTML = '';\n",
              "          dataTable['output_type'] = 'display_data';\n",
              "          await google.colab.output.renderOutput(dataTable, element);\n",
              "          const docLink = document.createElement('div');\n",
              "          docLink.innerHTML = docLinkHtml;\n",
              "          element.appendChild(docLink);\n",
              "        }\n",
              "      </script>\n",
              "    </div>\n",
              "  </div>\n",
              "  "
            ]
          },
          "metadata": {},
          "execution_count": 8
        }
      ]
    },
    {
      "cell_type": "code",
      "source": [
        "plt.plot(ECG.iloc[0,:].values);\n",
        "plt.xlabel('time');\n",
        "plt.ylabel('amplitude');\n",
        "plt.title(\"ECG\");\n",
        "\n",
        "plt.figure();\n",
        "plt.plot(PPG.iloc[0,:].values);\n",
        "plt.xlabel('time');\n",
        "plt.ylabel('amplitude');\n",
        "plt.title(\"PPG\");"
      ],
      "metadata": {
        "id": "pR-nWXs4PMyo",
        "execution": {
          "iopub.status.busy": "2022-10-15T08:50:33.524130Z",
          "iopub.execute_input": "2022-10-15T08:50:33.524754Z",
          "iopub.status.idle": "2022-10-15T08:50:33.941376Z",
          "shell.execute_reply.started": "2022-10-15T08:50:33.524718Z",
          "shell.execute_reply": "2022-10-15T08:50:33.940333Z"
        },
        "trusted": true,
        "colab": {
          "base_uri": "https://localhost:8080/",
          "height": 573
        },
        "outputId": "d4646fff-ef88-4dc4-dfcf-021f5fd6de82"
      },
      "execution_count": 9,
      "outputs": [
        {
          "output_type": "display_data",
          "data": {
            "text/plain": [
              "<Figure size 432x288 with 1 Axes>"
            ],
            "image/png": "[encoded data removed]"
          },
          "metadata": {
            "needs_background": "light"
          }
        },
        {
          "output_type": "display_data",
          "data": {
            "text/plain": [
              "<Figure size 432x288 with 1 Axes>"
            ],
            "image/png": "[encoded data removed]"
          },
          "metadata": {
            "needs_background": "light"
          }
        }
      ]
    },
    {
      "cell_type": "code",
      "source": [
        "X = PPG.values\n",
        "input_shape = (X.shape[0],120,1)\n",
        "X = np.reshape(X,input_shape)\n",
        "print(\"input shape is \",X.shape)\n",
        "y= ECG.values\n",
        "input_shape = (y.shape[0],120,1)\n",
        "y = np.reshape(y,input_shape)\n",
        "print(\"output shape is \",y.shape)"
      ],
      "metadata": {
        "id": "mHUXpp3YYSn3",
        "execution": {
          "iopub.status.busy": "2022-10-15T08:50:33.943736Z",
          "iopub.execute_input": "2022-10-15T08:50:33.944359Z",
          "iopub.status.idle": "2022-10-15T08:50:33.952278Z",
          "shell.execute_reply.started": "2022-10-15T08:50:33.944318Z",
          "shell.execute_reply": "2022-10-15T08:50:33.950786Z"
        },
        "trusted": true,
        "colab": {
          "base_uri": "https://localhost:8080/"
        },
        "outputId": "8e2c207b-b8ca-4805-a697-e7ae6db148b5"
      },
      "execution_count": 10,
      "outputs": [
        {
          "output_type": "stream",
          "name": "stdout",
          "text": [
            "input shape is  (691570, 120, 1)\n",
            "output shape is  (691570, 120, 1)\n"
          ]
        }
      ]
    },
    {
      "cell_type": "code",
      "source": [
        "X_train,X_test , y_train  , y_test = train_test_split(X , y , test_size = 0.11,shuffle=True)\n",
        "print(\"train shape is \",X_train.shape)\n",
        "print(\"test shape is \",X_test.shape)"
      ],
      "metadata": {
        "id": "pA8Am7zhZ8c0",
        "execution": {
          "iopub.status.busy": "2022-10-15T08:50:54.805638Z",
          "iopub.execute_input": "2022-10-15T08:50:54.806834Z",
          "iopub.status.idle": "2022-10-15T08:50:56.836181Z",
          "shell.execute_reply.started": "2022-10-15T08:50:54.806791Z",
          "shell.execute_reply": "2022-10-15T08:50:56.834913Z"
        },
        "trusted": true,
        "colab": {
          "base_uri": "https://localhost:8080/"
        },
        "outputId": "550fab5a-764d-4fcf-c5c2-656b52f8cafc"
      },
      "execution_count": 11,
      "outputs": [
        {
          "output_type": "stream",
          "name": "stdout",
          "text": [
            "train shape is  (615497, 120, 1)\n",
            "test shape is  (76073, 120, 1)\n"
          ]
        }
      ]
    },
    {
      "cell_type": "code",
      "source": [
        "model = Sequential()\n",
        "\n",
        "model.add(Conv1D(512, 5, padding='same', input_shape=input_shape[1:]))\n",
        "model.add(MaxPooling1D(2, padding='same'))\n",
        "model.add(BatchNormalization())\n",
        "model.add(LeakyReLU())\n",
        "\n",
        "model.add(Conv1D(256, 5, padding='same'))\n",
        "model.add(MaxPooling1D(2, padding='same'))\n",
        "model.add(BatchNormalization())\n",
        "model.add(LeakyReLU())\n",
        "\n",
        "model.add(Conv1D(128, 3, padding='same'))\n",
        "model.add(MaxPooling1D(2, padding='same'))\n",
        "model.add(BatchNormalization())\n",
        "model.add(LeakyReLU())\n",
        "\n",
        "model.add(Conv1D(64, 3, padding='same'))\n",
        "model.add(BatchNormalization())\n",
        "model.add(LeakyReLU())\n",
        "#model.add(MaxPooling1D(2, padding='same'))\n",
        "model.add(BatchNormalization())\n",
        "\n",
        "model.add(Conv1D(64,3, padding='same')) \n",
        "model.add(BatchNormalization())\n",
        "model.add(LeakyReLU())\n",
        "\n",
        "#model.add(MaxPooling1D(2, padding='same'))\n",
        "\n",
        "model.add(Conv1D(64, 3, padding='same'))\n",
        "model.add(UpSampling1D(2)) \n",
        "model.add(BatchNormalization())\n",
        "model.add(LeakyReLU())\n",
        "\n",
        "model.add(Conv1D(64, 3, padding='same'))\n",
        "model.add(UpSampling1D(2))\n",
        "model.add(BatchNormalization())\n",
        "model.add(LeakyReLU())\n",
        "\n",
        "model.add(Conv1D(128, 3, padding='same'))\n",
        "#model.add(UpSampling1D(2))\n",
        "model.add(BatchNormalization())\n",
        "model.add(LeakyReLU())\n",
        "\n",
        "model.add(Conv1D(256, 5, padding='same'))\n",
        "model.add(UpSampling1D(2))\n",
        "model.add(BatchNormalization())\n",
        "model.add(LeakyReLU())\n",
        "\n",
        "model.add(Conv1D(512, 5, padding='same'))\n",
        "model.add(BatchNormalization())\n",
        "model.add(LeakyReLU())\n",
        "\n",
        "#model.add(UpSampling1D( 2))\n",
        "model.add(Conv1D(1, 5, activation='relu', padding='same'))\n",
        "\n",
        "\n"
      ],
      "metadata": {
        "id": "qcMJY9frPM1n",
        "execution": {
          "iopub.status.busy": "2022-10-15T10:35:10.729886Z",
          "iopub.execute_input": "2022-10-15T10:35:10.730289Z",
          "iopub.status.idle": "2022-10-15T10:35:11.081064Z",
          "shell.execute_reply.started": "2022-10-15T10:35:10.730254Z",
          "shell.execute_reply": "2022-10-15T10:35:11.080056Z"
        },
        "trusted": true
      },
      "execution_count": 12,
      "outputs": []
    },
    {
      "cell_type": "code",
      "source": [
        "callbacks = [\n",
        "            keras.callbacks.TensorBoard(\n",
        "            log_dir='my_log_dir',\n",
        "            histogram_freq=1,\n",
        "            embeddings_freq=1,\n",
        "            ),\n",
        "             ModelCheckpoint('/content/gdrive/MyDrive/most cleaned version beats/traditional ae to retrain/model',\n",
        "                             save_best_only=True),\n",
        "             keras.callbacks.EarlyStopping(\n",
        "                                      monitor=\"val_loss\",\n",
        "                                      min_delta= 0,\n",
        "                                      patience= 5,\n",
        "                                      verbose= 0,\n",
        "                                      mode=\"auto\",\n",
        "                                      baseline=None,\n",
        "                                      restore_best_weights=True,\n",
        ")\n",
        "]"
      ],
      "metadata": {
        "id": "oYHeeeWGgHT0",
        "execution": {
          "iopub.status.busy": "2022-10-15T10:35:13.586328Z",
          "iopub.execute_input": "2022-10-15T10:35:13.586737Z",
          "iopub.status.idle": "2022-10-15T10:35:13.936908Z",
          "shell.execute_reply.started": "2022-10-15T10:35:13.586702Z",
          "shell.execute_reply": "2022-10-15T10:35:13.935729Z"
        },
        "trusted": true
      },
      "execution_count": 13,
      "outputs": []
    },
    {
      "cell_type": "code",
      "source": [
        "model = keras.models.load_model('/content/gdrive/MyDrive/most cleaned version beats/traditional ae to retrain/model')"
      ],
      "metadata": {
        "id": "NnjL_dPF4zRn"
      },
      "execution_count": 14,
      "outputs": []
    },
    {
      "cell_type": "code",
      "source": [
        "#model.compile(optimizer='adam', loss='mse', metrics=['mse'])\n",
        "model.summary()"
      ],
      "metadata": {
        "execution": {
          "iopub.status.busy": "2022-10-15T10:35:16.008399Z",
          "iopub.execute_input": "2022-10-15T10:35:16.009041Z",
          "iopub.status.idle": "2022-10-15T10:35:16.027330Z",
          "shell.execute_reply.started": "2022-10-15T10:35:16.009002Z",
          "shell.execute_reply": "2022-10-15T10:35:16.026257Z"
        },
        "trusted": true,
        "id": "1pcR0ac1kJ9N",
        "colab": {
          "base_uri": "https://localhost:8080/"
        },
        "outputId": "e8235012-919c-471c-c3ed-4117a3103b5b"
      },
      "execution_count": 17,
      "outputs": [
        {
          "output_type": "stream",
          "name": "stdout",
          "text": [
            "Model: \"sequential_8\"\n",
            "_________________________________________________________________\n",
            " Layer (type)                Output Shape              Param #   \n",
            "=================================================================\n",
            " conv1d_80 (Conv1D)          (None, 120, 512)          3072      \n",
            "                                                                 \n",
            " max_pooling1d_25 (MaxPoolin  (None, 60, 512)          0         \n",
            " g1D)                                                            \n",
            "                                                                 \n",
            " batch_normalization_65 (Bat  (None, 60, 512)          2048      \n",
            " chNormalization)                                                \n",
            "                                                                 \n",
            " leaky_re_lu_41 (LeakyReLU)  (None, 60, 512)           0         \n",
            "                                                                 \n",
            " conv1d_81 (Conv1D)          (None, 60, 256)           655616    \n",
            "                                                                 \n",
            " max_pooling1d_26 (MaxPoolin  (None, 30, 256)          0         \n",
            " g1D)                                                            \n",
            "                                                                 \n",
            " batch_normalization_66 (Bat  (None, 30, 256)          1024      \n",
            " chNormalization)                                                \n",
            "                                                                 \n",
            " leaky_re_lu_42 (LeakyReLU)  (None, 30, 256)           0         \n",
            "                                                                 \n",
            " conv1d_82 (Conv1D)          (None, 30, 128)           98432     \n",
            "                                                                 \n",
            " max_pooling1d_27 (MaxPoolin  (None, 15, 128)          0         \n",
            " g1D)                                                            \n",
            "                                                                 \n",
            " batch_normalization_67 (Bat  (None, 15, 128)          512       \n",
            " chNormalization)                                                \n",
            "                                                                 \n",
            " leaky_re_lu_43 (LeakyReLU)  (None, 15, 128)           0         \n",
            "                                                                 \n",
            " conv1d_83 (Conv1D)          (None, 15, 64)            24640     \n",
            "                                                                 \n",
            " batch_normalization_68 (Bat  (None, 15, 64)           256       \n",
            " chNormalization)                                                \n",
            "                                                                 \n",
            " leaky_re_lu_44 (LeakyReLU)  (None, 15, 64)            0         \n",
            "                                                                 \n",
            " batch_normalization_69 (Bat  (None, 15, 64)           256       \n",
            " chNormalization)                                                \n",
            "                                                                 \n",
            " conv1d_84 (Conv1D)          (None, 15, 64)            12352     \n",
            "                                                                 \n",
            " batch_normalization_70 (Bat  (None, 15, 64)           256       \n",
            " chNormalization)                                                \n",
            "                                                                 \n",
            " leaky_re_lu_45 (LeakyReLU)  (None, 15, 64)            0         \n",
            "                                                                 \n",
            " conv1d_85 (Conv1D)          (None, 15, 64)            12352     \n",
            "                                                                 \n",
            " up_sampling1d_26 (UpSamplin  (None, 30, 64)           0         \n",
            " g1D)                                                            \n",
            "                                                                 \n",
            " batch_normalization_71 (Bat  (None, 30, 64)           256       \n",
            " chNormalization)                                                \n",
            "                                                                 \n",
            " leaky_re_lu_46 (LeakyReLU)  (None, 30, 64)            0         \n",
            "                                                                 \n",
            " conv1d_86 (Conv1D)          (None, 30, 64)            12352     \n",
            "                                                                 \n",
            " up_sampling1d_27 (UpSamplin  (None, 60, 64)           0         \n",
            " g1D)                                                            \n",
            "                                                                 \n",
            " batch_normalization_72 (Bat  (None, 60, 64)           256       \n",
            " chNormalization)                                                \n",
            "                                                                 \n",
            " leaky_re_lu_47 (LeakyReLU)  (None, 60, 64)            0         \n",
            "                                                                 \n",
            " conv1d_87 (Conv1D)          (None, 60, 128)           24704     \n",
            "                                                                 \n",
            " batch_normalization_73 (Bat  (None, 60, 128)          512       \n",
            " chNormalization)                                                \n",
            "                                                                 \n",
            " leaky_re_lu_48 (LeakyReLU)  (None, 60, 128)           0         \n",
            "                                                                 \n",
            " conv1d_88 (Conv1D)          (None, 60, 256)           164096    \n",
            "                                                                 \n",
            " up_sampling1d_28 (UpSamplin  (None, 120, 256)         0         \n",
            " g1D)                                                            \n",
            "                                                                 \n",
            " batch_normalization_74 (Bat  (None, 120, 256)         1024      \n",
            " chNormalization)                                                \n",
            "                                                                 \n",
            " leaky_re_lu_49 (LeakyReLU)  (None, 120, 256)          0         \n",
            "                                                                 \n",
            " conv1d_89 (Conv1D)          (None, 120, 512)          655872    \n",
            "                                                                 \n",
            " batch_normalization_75 (Bat  (None, 120, 512)         2048      \n",
            " chNormalization)                                                \n",
            "                                                                 \n",
            " leaky_re_lu_50 (LeakyReLU)  (None, 120, 512)          0         \n",
            "                                                                 \n",
            " conv1d_90 (Conv1D)          (None, 120, 1)            2561      \n",
            "                                                                 \n",
            "=================================================================\n",
            "Total params: 1,674,497\n",
            "Trainable params: 1,670,273\n",
            "Non-trainable params: 4,224\n",
            "_________________________________________________________________\n"
          ]
        }
      ]
    },
    {
      "cell_type": "code",
      "source": [
        "model.fit( X_train , y_train , epochs=20 , batch_size = 32 ,validation_split = 0.2,callbacks = callbacks)           "
      ],
      "metadata": {
        "execution": {
          "iopub.status.busy": "2022-10-15T13:49:05.731086Z",
          "iopub.execute_input": "2022-10-15T13:49:05.731490Z",
          "iopub.status.idle": "2022-10-15T14:17:24.756983Z",
          "shell.execute_reply.started": "2022-10-15T13:49:05.731457Z",
          "shell.execute_reply": "2022-10-15T14:17:24.755489Z"
        },
        "trusted": true,
        "id": "3ts7v8AZkJ9O",
        "colab": {
          "base_uri": "https://localhost:8080/"
        },
        "outputId": "41884d9e-befc-4d5b-be3b-9abea1df3bf8"
      },
      "execution_count": null,
      "outputs": [
        {
          "output_type": "stream",
          "name": "stdout",
          "text": [
            "Epoch 1/20\n",
            " 1112/15388 [=>............................] - ETA: 3:06:07 - loss: 0.0175 - mse: 0.0175"
          ]
        }
      ]
    },
    {
      "cell_type": "code",
      "source": [
        "model.evaluate(X_test , y_test)"
      ],
      "metadata": {
        "id": "fg1JQxHcck-V",
        "execution": {
          "iopub.status.busy": "2022-10-15T14:17:43.287110Z",
          "iopub.execute_input": "2022-10-15T14:17:43.287500Z",
          "iopub.status.idle": "2022-10-15T14:18:03.866479Z",
          "shell.execute_reply.started": "2022-10-15T14:17:43.287465Z",
          "shell.execute_reply": "2022-10-15T14:18:03.865520Z"
        },
        "trusted": true,
        "colab": {
          "base_uri": "https://localhost:8080/"
        },
        "outputId": "1f63a70a-38b3-4784-d5e6-093789f9f7af"
      },
      "execution_count": 15,
      "outputs": [
        {
          "output_type": "stream",
          "name": "stdout",
          "text": [
            "2378/2378 [==============================] - 416s 175ms/step - loss: 0.0179 - mse: 0.0179\n"
          ]
        },
        {
          "output_type": "execute_result",
          "data": {
            "text/plain": [
              "[0.017862806096673012, 0.017862822860479355]"
            ]
          },
          "metadata": {},
          "execution_count": 15
        }
      ]
    },
    {
      "cell_type": "code",
      "source": [
        "print(\"Output\")\n",
        "pred = model.predict(X_test)   #Predict model on the same input array."
      ],
      "metadata": {
        "id": "9YuUksVvSCt0",
        "execution": {
          "iopub.status.busy": "2022-10-15T14:18:03.868573Z",
          "iopub.execute_input": "2022-10-15T14:18:03.868965Z",
          "iopub.status.idle": "2022-10-15T14:18:14.167218Z",
          "shell.execute_reply.started": "2022-10-15T14:18:03.868928Z",
          "shell.execute_reply": "2022-10-15T14:18:14.166121Z"
        },
        "trusted": true,
        "colab": {
          "base_uri": "https://localhost:8080/"
        },
        "outputId": "b3d0c165-c623-4cdf-ee5a-bd816d05b895"
      },
      "execution_count": 16,
      "outputs": [
        {
          "output_type": "stream",
          "name": "stdout",
          "text": [
            "Output\n",
            "2378/2378 [==============================] - 414s 174ms/step\n"
          ]
        }
      ]
    },
    {
      "cell_type": "code",
      "source": [
        "X_test.shape,pred.shape"
      ],
      "metadata": {
        "id": "mQkVEuz2dklH",
        "execution": {
          "iopub.status.busy": "2022-10-15T09:20:06.252208Z",
          "iopub.execute_input": "2022-10-15T09:20:06.252881Z",
          "iopub.status.idle": "2022-10-15T09:20:06.259439Z",
          "shell.execute_reply.started": "2022-10-15T09:20:06.252843Z",
          "shell.execute_reply": "2022-10-15T09:20:06.258376Z"
        },
        "trusted": true,
        "colab": {
          "base_uri": "https://localhost:8080/"
        },
        "outputId": "17bf449c-6c7a-4c41-8c43-8a72c7830a2a"
      },
      "execution_count": 76,
      "outputs": [
        {
          "output_type": "execute_result",
          "data": {
            "text/plain": [
              "((76073, 120, 1), (76073, 120, 1))"
            ]
          },
          "metadata": {},
          "execution_count": 76
        }
      ]
    },
    {
      "cell_type": "code",
      "source": [
        "i = np.random.randint(0,76073,10)\n",
        "plt.figure(figsize=(15,10))\n",
        "\n",
        "for j in range(10) :\n",
        "  print(i[j])\n",
        "  plt.subplot(5,2,j+1)\n",
        "  plt.plot(y_test[i[j],:,0],label = 'true')\n",
        "  plt.plot(pred[i[j],:,0],label = 'predicted')\n",
        "  plt.title(\"True ECG vs predicted ECG \")\n",
        "  plt.legend()\n",
        "\n",
        "\n"
      ],
      "metadata": {
        "id": "VYULa8uNsiAb",
        "execution": {
          "iopub.status.busy": "2022-10-15T14:19:50.764843Z",
          "iopub.execute_input": "2022-10-15T14:19:50.765439Z",
          "iopub.status.idle": "2022-10-15T14:19:51.243927Z",
          "shell.execute_reply.started": "2022-10-15T14:19:50.765394Z",
          "shell.execute_reply": "2022-10-15T14:19:51.238431Z"
        },
        "trusted": true,
        "colab": {
          "base_uri": "https://localhost:8080/",
          "height": 793
        },
        "outputId": "2d40a48b-1d5b-4a8e-bee1-6d3db645497a"
      },
      "execution_count": 23,
      "outputs": [
        {
          "output_type": "stream",
          "name": "stdout",
          "text": [
            "58133\n",
            "54944\n",
            "2580\n",
            "23682\n",
            "65544\n",
            "42846\n",
            "4763\n",
            "36622\n",
            "40543\n",
            "60056\n"
          ]
        },
        {
          "output_type": "display_data",
          "data": {
            "text/plain": [
              "<Figure size 1080x720 with 10 Axes>"
            ],
            "image/png": "[encoded data removed]"
          },
          "metadata": {
            "needs_background": "light"
          }
        }
      ]
    },
    {
      "cell_type": "code",
      "source": [
        "model.save('/content/gdrive/MyDrive/most cleaned version beats/traditional ae to retrain/model/PPG_ECG_autoencoder_beats_part1_part2')"
      ],
      "metadata": {
        "id": "qe6jCPiNwtZt",
        "execution": {
          "iopub.status.busy": "2022-10-15T14:20:50.734200Z",
          "iopub.execute_input": "2022-10-15T14:20:50.734639Z",
          "iopub.status.idle": "2022-10-15T14:20:58.609279Z",
          "shell.execute_reply.started": "2022-10-15T14:20:50.734603Z",
          "shell.execute_reply": "2022-10-15T14:20:58.608254Z"
        },
        "trusted": true,
        "colab": {
          "base_uri": "https://localhost:8080/"
        },
        "outputId": "fdb74668-21d4-4826-8419-b0df444a518f"
      },
      "execution_count": 24,
      "outputs": [
        {
          "output_type": "stream",
          "name": "stderr",
          "text": [
            "WARNING:absl:Found untraced functions such as _jit_compiled_convolution_op, _jit_compiled_convolution_op, _jit_compiled_convolution_op, _jit_compiled_convolution_op, _jit_compiled_convolution_op while saving (showing 5 of 11). These functions will not be directly callable after loading.\n"
          ]
        }
      ]
    },
    {
      "cell_type": "code",
      "source": [
        "import shutil\n",
        "shutil.make_archive('./PPG_ECG_autoencoder_beats_part1_part2', 'zip', './')"
      ],
      "metadata": {
        "execution": {
          "iopub.status.busy": "2022-10-15T14:23:15.878219Z",
          "iopub.execute_input": "2022-10-15T14:23:15.879485Z",
          "iopub.status.idle": "2022-10-15T14:31:56.771894Z",
          "shell.execute_reply.started": "2022-10-15T14:23:15.879434Z",
          "shell.execute_reply": "2022-10-15T14:31:56.764645Z"
        },
        "trusted": true,
        "id": "hZQpqnGPkJ9T"
      },
      "execution_count": null,
      "outputs": []
    }
  ]
}