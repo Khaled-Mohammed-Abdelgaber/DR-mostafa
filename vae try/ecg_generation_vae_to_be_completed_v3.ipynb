{
  "metadata": {
    "kernelspec": {
      "language": "python",
      "display_name": "Python 3",
      "name": "python3"
    },
    "language_info": {
      "name": "python",
      "version": "3.7.12",
      "mimetype": "text/x-python",
      "codemirror_mode": {
        "name": "ipython",
        "version": 3
      },
      "pygments_lexer": "ipython3",
      "nbconvert_exporter": "python",
      "file_extension": ".py"
    },
    "colab": {
      "provenance": [],
      "include_colab_link": true
    },
    "accelerator": "GPU"
  },
  "nbformat_minor": 0,
  "nbformat": 4,
  "cells": [
    {
      "cell_type": "markdown",
      "metadata": {
        "id": "view-in-github",
        "colab_type": "text"
      },
      "source": [
        "<a href=\"https://colab.research.google.com/github/Khaled-Mohammed-Abdelgaber/DR-mostafa/blob/main/vae%20try/ecg_generation_vae_to_be_completed_v3.ipynb\" target=\"_parent\"><img src=\"https://colab.research.google.com/assets/colab-badge.svg\" alt=\"Open In Colab\"/></a>"
      ]
    },
    {
      "cell_type": "markdown",
      "source": [
        "#Kaggle part"
      ],
      "metadata": {
        "id": "nZc6rQrj2LXo"
      }
    },
    {
      "cell_type": "code",
      "source": [
        "!conda install -y gdown"
      ],
      "metadata": {
        "execution": {
          "iopub.status.busy": "2022-10-14T05:41:16.570848Z",
          "iopub.execute_input": "2022-10-14T05:41:16.572381Z",
          "iopub.status.idle": "2022-10-14T05:42:32.163932Z",
          "shell.execute_reply.started": "2022-10-14T05:41:16.572266Z",
          "shell.execute_reply": "2022-10-14T05:42:32.162772Z"
        },
        "trusted": true,
        "id": "IDiD8BHXzGQP",
        "outputId": "f02dc0fe-b9ec-47e2-ee63-cca9333dcb15"
      },
      "execution_count": null,
      "outputs": [
        {
          "name": "stdout",
          "text": "Collecting package metadata (current_repodata.json): done\nSolving environment: done\n\n## Package Plan ##\n\n  environment location: /opt/conda\n\n  added / updated specs:\n    - gdown\n\n\nThe following packages will be downloaded:\n\n    package                    |            build\n    ---------------------------|-----------------\n    ca-certificates-2022.9.24  |       ha878542_0         150 KB  conda-forge\n    certifi-2022.9.24          |     pyhd8ed1ab_0         155 KB  conda-forge\n    conda-22.9.0               |   py37h89c1867_1         960 KB  conda-forge\n    filelock-3.8.0             |     pyhd8ed1ab_0          13 KB  conda-forge\n    gdown-4.5.1                |     pyhd8ed1ab_0          17 KB  conda-forge\n    ------------------------------------------------------------\n                                           Total:         1.3 MB\n\nThe following NEW packages will be INSTALLED:\n\n  filelock           conda-forge/noarch::filelock-3.8.0-pyhd8ed1ab_0\n  gdown              conda-forge/noarch::gdown-4.5.1-pyhd8ed1ab_0\n\nThe following packages will be UPDATED:\n\n  ca-certificates                    2022.6.15.2-ha878542_0 --> 2022.9.24-ha878542_0\n  certifi                          2022.6.15.2-pyhd8ed1ab_0 --> 2022.9.24-pyhd8ed1ab_0\n  conda                               4.14.0-py37h89c1867_0 --> 22.9.0-py37h89c1867_1\n\n\n\nDownloading and Extracting Packages\nca-certificates-2022 | 150 KB    | ##################################### | 100% \ncertifi-2022.9.24    | 155 KB    | ##################################### | 100% \nconda-22.9.0         | 960 KB    | ##################################### | 100% \ngdown-4.5.1          | 17 KB     | ##################################### | 100% \nfilelock-3.8.0       | 13 KB     | ##################################### | 100% \nPreparing transaction: done\nVerifying transaction: done\nExecuting transaction: done\nRetrieving notices: ...working... done\n",
          "output_type": "stream"
        }
      ]
    },
    {
      "cell_type": "code",
      "source": [
        "#downloading first part of ECG\n",
        "!gdown https://drive.google.com/uc?id=1jt__DwKtdHOQypNVBjnp9SeaqGwoRazG\n"
      ],
      "metadata": {
        "execution": {
          "iopub.status.busy": "2022-10-13T19:47:15.523200Z",
          "iopub.execute_input": "2022-10-13T19:47:15.523677Z",
          "iopub.status.idle": "2022-10-13T19:47:19.254620Z",
          "shell.execute_reply.started": "2022-10-13T19:47:15.523631Z",
          "shell.execute_reply": "2022-10-13T19:47:19.253073Z"
        },
        "trusted": true,
        "id": "bf-a2l_nzGQY",
        "outputId": "c0c99fd9-78b1-47d7-ec27-7c4e42425c36"
      },
      "execution_count": null,
      "outputs": [
        {
          "name": "stdout",
          "text": "Downloading...\nFrom: https://drive.google.com/uc?id=1jt__DwKtdHOQypNVBjnp9SeaqGwoRazG\nTo: /kaggle/working/part_1_ECG_beats_P2P_Aug_2022.csv\n100%|█████████████████████████████████████████| 150M/150M [00:01<00:00, 119MB/s]\n",
          "output_type": "stream"
        }
      ]
    },
    {
      "cell_type": "code",
      "source": [
        "#downloading second part of ecg  beats data\n",
        "!gdown https://drive.google.com/uc?id=1K1-xeL4RKmURSsppi0X7s7U4TQVOy7eF   "
      ],
      "metadata": {
        "execution": {
          "iopub.status.busy": "2022-10-13T19:48:39.560805Z",
          "iopub.execute_input": "2022-10-13T19:48:39.561733Z",
          "iopub.status.idle": "2022-10-13T19:48:43.246419Z",
          "shell.execute_reply.started": "2022-10-13T19:48:39.561679Z",
          "shell.execute_reply": "2022-10-13T19:48:43.245294Z"
        },
        "trusted": true,
        "id": "HhIm9NjLzGQa",
        "outputId": "348b4967-7ae9-46ea-dd6e-9561c6eed58a"
      },
      "execution_count": null,
      "outputs": [
        {
          "name": "stdout",
          "text": "Downloading...\nFrom: https://drive.google.com/uc?id=1K1-xeL4RKmURSsppi0X7s7U4TQVOy7eF\nTo: /kaggle/working/Part_2_ECG_beats_P2P_Aug_2022.csv\n100%|█████████████████████████████████████████| 196M/196M [00:01<00:00, 149MB/s]\n",
          "output_type": "stream"
        }
      ]
    },
    {
      "cell_type": "code",
      "source": [
        "#downloading third part of ecg  beats data\n",
        "!gdown https://drive.google.com/uc?id=1w-2QFZ5CnchAm0JkwfQ-lLBTwLYO4Hc0   "
      ],
      "metadata": {
        "execution": {
          "iopub.status.busy": "2022-10-13T19:48:43.248223Z",
          "iopub.execute_input": "2022-10-13T19:48:43.248562Z",
          "iopub.status.idle": "2022-10-13T19:48:46.693931Z",
          "shell.execute_reply.started": "2022-10-13T19:48:43.248525Z",
          "shell.execute_reply": "2022-10-13T19:48:46.692865Z"
        },
        "trusted": true,
        "id": "hLDHwr7QzGQc",
        "outputId": "4eb921d9-1590-48aa-8b26-becae0ff8c8b"
      },
      "execution_count": null,
      "outputs": [
        {
          "name": "stdout",
          "text": "Downloading...\nFrom: https://drive.google.com/uc?id=1w-2QFZ5CnchAm0JkwfQ-lLBTwLYO4Hc0\nTo: /kaggle/working/Part_3_ECG_beats_P2P_Aug_2022.csv\n100%|█████████████████████████████████████████| 150M/150M [00:01<00:00, 131MB/s]\n",
          "output_type": "stream"
        }
      ]
    },
    {
      "cell_type": "code",
      "source": [
        "#downloading fourth part of ecg  beats data\n",
        "!gdown https://drive.google.com/uc?id=13Y7gLQb3FNWsRlQ8DUp5JP9UUttjytQm"
      ],
      "metadata": {
        "execution": {
          "iopub.status.busy": "2022-10-13T19:48:46.695866Z",
          "iopub.execute_input": "2022-10-13T19:48:46.696990Z",
          "iopub.status.idle": "2022-10-13T19:48:50.215177Z",
          "shell.execute_reply.started": "2022-10-13T19:48:46.696941Z",
          "shell.execute_reply": "2022-10-13T19:48:50.213739Z"
        },
        "trusted": true,
        "id": "SJyBIEGDzGQd",
        "outputId": "8c4e9d56-d7dd-47b3-c128-2d4c4cc768b2"
      },
      "execution_count": null,
      "outputs": [
        {
          "name": "stdout",
          "text": "Downloading...\nFrom: https://drive.google.com/uc?id=13Y7gLQb3FNWsRlQ8DUp5JP9UUttjytQm\nTo: /kaggle/working/Part_4_ECG_beats_P2P_Aug_2022.csv\n100%|█████████████████████████████████████████| 172M/172M [00:01<00:00, 145MB/s]\n",
          "output_type": "stream"
        }
      ]
    },
    {
      "cell_type": "code",
      "source": [
        "#downloading first part of PPG  beats data\n",
        "!gdown https://drive.google.com/uc?id=1u-QWYMJ3h7bd2fWy5UmUgQtCtvmWge-K"
      ],
      "metadata": {
        "execution": {
          "iopub.status.busy": "2022-10-13T19:48:50.218924Z",
          "iopub.execute_input": "2022-10-13T19:48:50.220141Z",
          "iopub.status.idle": "2022-10-13T19:48:53.886651Z",
          "shell.execute_reply.started": "2022-10-13T19:48:50.220081Z",
          "shell.execute_reply": "2022-10-13T19:48:53.885465Z"
        },
        "trusted": true,
        "id": "KxMdOMiizGQe",
        "outputId": "e444eada-48bb-43e4-971c-a38b744d1a04"
      },
      "execution_count": null,
      "outputs": [
        {
          "name": "stdout",
          "text": "Downloading...\nFrom: https://drive.google.com/uc?id=1u-QWYMJ3h7bd2fWy5UmUgQtCtvmWge-K\nTo: /kaggle/working/part_1_PPG_beats_P2P_Aug_2022.csv\n100%|█████████████████████████████████████████| 151M/151M [00:01<00:00, 121MB/s]\n",
          "output_type": "stream"
        }
      ]
    },
    {
      "cell_type": "code",
      "source": [
        "#downloading second part of PPG peak to peak beats data\n",
        "!gdown https://drive.google.com/uc?id=1F086tcERdEOcsbvqRmhN6PGX6NVZqX3P"
      ],
      "metadata": {
        "execution": {
          "iopub.status.busy": "2022-10-13T19:48:53.888271Z",
          "iopub.execute_input": "2022-10-13T19:48:53.889093Z",
          "iopub.status.idle": "2022-10-13T19:48:57.934315Z",
          "shell.execute_reply.started": "2022-10-13T19:48:53.889040Z",
          "shell.execute_reply": "2022-10-13T19:48:57.933086Z"
        },
        "trusted": true,
        "id": "ubqriHazzGQg",
        "outputId": "ffd6329d-a485-4739-c3ac-0a29d7dfee56"
      },
      "execution_count": null,
      "outputs": [
        {
          "name": "stdout",
          "text": "Downloading...\nFrom: https://drive.google.com/uc?id=1F086tcERdEOcsbvqRmhN6PGX6NVZqX3P\nTo: /kaggle/working/Part_2_PPG_beats_P2P_Aug_2022.csv\n100%|█████████████████████████████████████████| 200M/200M [00:01<00:00, 124MB/s]\n",
          "output_type": "stream"
        }
      ]
    },
    {
      "cell_type": "code",
      "source": [
        "#downloading third part of PPG peak to peak beats data\n",
        "!gdown https://drive.google.com/uc?id=1LWxX-F5z177l6OEUS4V7nJxbJnpK4A5G"
      ],
      "metadata": {
        "execution": {
          "iopub.status.busy": "2022-10-13T19:48:57.937460Z",
          "iopub.execute_input": "2022-10-13T19:48:57.937841Z",
          "iopub.status.idle": "2022-10-13T19:49:01.247954Z",
          "shell.execute_reply.started": "2022-10-13T19:48:57.937799Z",
          "shell.execute_reply": "2022-10-13T19:49:01.246820Z"
        },
        "trusted": true,
        "id": "KpGKNlEpzGQi",
        "outputId": "bbbbe571-572a-4de6-8ba2-d18fae501ccb"
      },
      "execution_count": null,
      "outputs": [
        {
          "name": "stdout",
          "text": "Downloading...\nFrom: https://drive.google.com/uc?id=1LWxX-F5z177l6OEUS4V7nJxbJnpK4A5G\nTo: /kaggle/working/Part_3_PPG_beats_P2P_Aug_2022.csv\n100%|█████████████████████████████████████████| 148M/148M [00:00<00:00, 150MB/s]\n",
          "output_type": "stream"
        }
      ]
    },
    {
      "cell_type": "code",
      "source": [
        "#downloading fourth part of PPG peak to peak beats data\n",
        "!gdown https://drive.google.com/uc?id=1faRVH5KPR-q4gxhS86DFfkStCxYo5tHd"
      ],
      "metadata": {
        "execution": {
          "iopub.status.busy": "2022-10-13T19:53:25.144230Z",
          "iopub.execute_input": "2022-10-13T19:53:25.144777Z",
          "iopub.status.idle": "2022-10-13T19:53:28.877473Z",
          "shell.execute_reply.started": "2022-10-13T19:53:25.144728Z",
          "shell.execute_reply": "2022-10-13T19:53:28.875456Z"
        },
        "trusted": true,
        "id": "lDaHfRspzGQj",
        "outputId": "46923202-041e-4759-98de-34907f2e1ee3"
      },
      "execution_count": null,
      "outputs": [
        {
          "name": "stdout",
          "text": "Downloading...\nFrom: https://drive.google.com/uc?id=1faRVH5KPR-q4gxhS86DFfkStCxYo5tHd\nTo: /kaggle/working/Part_4_PPG_beats_P2P_Aug_2022.csv\n100%|█████████████████████████████████████████| 174M/174M [00:01<00:00, 142MB/s]\n",
          "output_type": "stream"
        }
      ]
    },
    {
      "cell_type": "markdown",
      "source": [
        "# importing libraries"
      ],
      "metadata": {
        "id": "BmIj_HadsJ6l"
      }
    },
    {
      "cell_type": "code",
      "source": [
        "import tensorflow as tf\n",
        "from tensorflow import keras\n",
        "from tensorflow.keras import backend as K\n",
        "from keras.layers import *\n",
        "import pandas as pd\n",
        "from sklearn.model_selection import train_test_split\n",
        "import matplotlib.pyplot as plt\n",
        "from keras.layers import *\n",
        "from keras.models import Sequential\n",
        "from keras.callbacks import ModelCheckpoint\n",
        "import numpy as np\n",
        "from keras.models import Model\n",
        "from  IPython.display import clear_output\n",
        "import seaborn as sns\n",
        "#for Kmeans\n",
        "from sklearn.cluster import KMeans\n",
        "from sklearn.metrics import silhouette_score\n",
        "\n",
        "from sklearn.decomposition import PCA"
      ],
      "metadata": {
        "execution": {
          "iopub.status.busy": "2022-10-14T14:57:36.840053Z",
          "iopub.execute_input": "2022-10-14T14:57:36.840648Z",
          "iopub.status.idle": "2022-10-14T14:57:36.848393Z",
          "shell.execute_reply.started": "2022-10-14T14:57:36.840609Z",
          "shell.execute_reply": "2022-10-14T14:57:36.847400Z"
        },
        "trusted": true,
        "id": "ijraAl6OzGQl"
      },
      "execution_count": 1,
      "outputs": []
    },
    {
      "cell_type": "markdown",
      "source": [
        "#Mounting Drive and reading data"
      ],
      "metadata": {
        "id": "loBhZmkXsOPr"
      }
    },
    {
      "cell_type": "code",
      "source": [
        "from google.colab import drive\n",
        "drive.mount('/content/gdrive')"
      ],
      "metadata": {
        "colab": {
          "base_uri": "https://localhost:8080/"
        },
        "id": "hKcfYF2C1D50",
        "outputId": "f8c06954-b291-4c19-c405-924e76ae492d"
      },
      "execution_count": 2,
      "outputs": [
        {
          "output_type": "stream",
          "name": "stdout",
          "text": [
            "Mounted at /content/gdrive\n"
          ]
        }
      ]
    },
    {
      "cell_type": "code",
      "source": [
        "import sys\n",
        "sys.path.append('/content/gdrive/MyDrive/Master/')"
      ],
      "metadata": {
        "id": "1WuxWtforiAt"
      },
      "execution_count": 3,
      "outputs": []
    },
    {
      "cell_type": "code",
      "source": [
        "import Functions_Classes as F"
      ],
      "metadata": {
        "id": "kRKV_xbXrlGb"
      },
      "execution_count": 4,
      "outputs": []
    },
    {
      "cell_type": "code",
      "source": [
        "ECG1 = pd.read_csv(\"/content/gdrive/MyDrive/most cleaned version beats/Peak2peak_signals&beats_Aug_2022/Part_1/p2p_beats/part_1_ECG_beats_P2P_Aug_2022.csv\",\n",
        "                   names = np.arange(120))\n",
        "PPG1 = pd.read_csv(\"/content/gdrive/MyDrive/most cleaned version beats/Peak2peak_signals&beats_Aug_2022/Part_1/p2p_beats/part_1_PPG_beats_P2P_Aug_2022.csv\",\n",
        "                   names = np.arange(120))\n",
        "\n",
        "\n",
        "PPG2 = pd.read_csv(\"/content/gdrive/MyDrive/most cleaned version beats/Peak2peak_signals&beats_Aug_2022/Part_2/p2p_beats/Part_2_PPG_beats_P2P_Aug_2022.csv\",\n",
        "                   names = np.arange(120))\n",
        "\n",
        "ECG2= pd.read_csv(\"/content/gdrive/MyDrive/most cleaned version beats/Peak2peak_signals&beats_Aug_2022/Part_2/p2p_beats/Part_2_ECG_beats_P2P_Aug_2022.csv\",\n",
        "                  names = np.arange(120))\n",
        "\n",
        "\n",
        "PPG3 = pd.read_csv(\"/content/gdrive/MyDrive/most cleaned version beats/Peak2peak_signals&beats_Aug_2022/Part_3/p2p_beats/Part_3_PPG_beats_P2P_Aug_2022.csv\",\n",
        "                   names = np.arange(120))\n",
        "ECG3= pd.read_csv(\"/content/gdrive/MyDrive/most cleaned version beats/Peak2peak_signals&beats_Aug_2022/Part_3/p2p_beats/Part_3_ECG_beats_P2P_Aug_2022.csv\",\n",
        "                  names = np.arange(120))\n",
        "\n",
        "\n",
        "PPG4 = pd.read_csv(\"/content/gdrive/MyDrive/most cleaned version beats/Peak2peak_signals&beats_Aug_2022/Part_4/p2p_beats/Part_4_PPG_beats_P2P_Aug_2022.csv\",\n",
        "                   names = np.arange(120))\n",
        "ECG4= pd.read_csv(\"/content/gdrive/MyDrive/most cleaned version beats/Peak2peak_signals&beats_Aug_2022/Part_4/p2p_beats/Part_4_ECG_beats_P2P_Aug_2022.csv\",\n",
        "                  names = np.arange(120))"
      ],
      "metadata": {
        "execution": {
          "iopub.status.busy": "2022-10-14T14:57:36.849578Z",
          "iopub.execute_input": "2022-10-14T14:57:36.850185Z",
          "iopub.status.idle": "2022-10-14T14:57:57.914269Z",
          "shell.execute_reply.started": "2022-10-14T14:57:36.850136Z",
          "shell.execute_reply": "2022-10-14T14:57:57.913286Z"
        },
        "trusted": true,
        "id": "Sa1RZJ6TzGQo"
      },
      "execution_count": 5,
      "outputs": []
    },
    {
      "cell_type": "code",
      "source": [
        "ID1 = pd.read_csv(\"/content/gdrive/MyDrive/most cleaned version beats/Peak2peak_signals&beats_Aug_2022/Part_1/p2p_beats/part_1_Subj_ID_beats_P2P_Aug_2022.csv\"\n",
        "                    ,names = ['id'])\n",
        "ID2 = pd.read_csv(\"/content/gdrive/MyDrive/most cleaned version beats/Peak2peak_signals&beats_Aug_2022/Part_2/p2p_beats/Part_2_Subj_ID_beats_P2P_Aug_2022.csv\",\n",
        "                  names = ['id'])\n",
        "ID3 = pd.read_csv(\"/content/gdrive/MyDrive/most cleaned version beats/Peak2peak_signals&beats_Aug_2022/Part_3/p2p_beats/Part_3_Subj_ID_beats_P2P_Aug_2022.csv\",\n",
        "                  names = ['id'])\n",
        "ID4 = pd.read_csv(\"/content/gdrive/MyDrive/most cleaned version beats/Peak2peak_signals&beats_Aug_2022/Part_4/p2p_beats/Part_4_Subj_ID_beats_P2P_Aug_2022.csv\",\n",
        "                  names = ['id'])"
      ],
      "metadata": {
        "id": "EmDxxxbssB1o"
      },
      "execution_count": 6,
      "outputs": []
    },
    {
      "cell_type": "markdown",
      "source": [
        "# checking shapes"
      ],
      "metadata": {
        "id": "0rSlLQGKsUa0"
      }
    },
    {
      "cell_type": "code",
      "source": [
        "print(\"Shape of PPG 1 = \",PPG1.shape)\n",
        "print(\"Shape of ECG 1 = \",ECG1.shape)\n",
        "print(\"Shape of ID 1 = \",ID1.shape)\n",
        "print(\"**\"*20)\n",
        "\n",
        "print(\"Shape of PPG 2 = \",PPG2.shape)\n",
        "print(\"Shape of ECG 2 = \",ECG2.shape)\n",
        "print(\"Shape of ID 2 = \",ID2.shape)\n",
        "print(\"**\"*20)\n",
        "\n",
        "print(\"Shape of PPG 3 = \",PPG3.shape)\n",
        "print(\"Shape of ECG 3 = \",ECG3.shape)\n",
        "print(\"Shape of ID 3 = \",ID3.shape)\n",
        "print(\"**\"*20)\n",
        "\n",
        "\n",
        "print(\"Shape of PPG 4 = \",PPG4.shape)\n",
        "print(\"Shape of ECG 4 = \",ECG4.shape)\n",
        "print(\"Shape of ID 4 = \",ID4.shape)"
      ],
      "metadata": {
        "colab": {
          "base_uri": "https://localhost:8080/"
        },
        "id": "NjwlUKO-sGuU",
        "outputId": "dcab39a5-0ee5-40f5-d071-ac8c1f3985f9"
      },
      "execution_count": 7,
      "outputs": [
        {
          "output_type": "stream",
          "name": "stdout",
          "text": [
            "Shape of PPG 1 =  (154540, 120)\n",
            "Shape of ECG 1 =  (154540, 120)\n",
            "Shape of ID 1 =  (154540, 1)\n",
            "****************************************\n",
            "Shape of PPG 2 =  (205320, 120)\n",
            "Shape of ECG 2 =  (205320, 120)\n",
            "Shape of ID 2 =  (205320, 1)\n",
            "****************************************\n",
            "Shape of PPG 3 =  (152650, 120)\n",
            "Shape of ECG 3 =  (152650, 120)\n",
            "Shape of ID 3 =  (152650, 1)\n",
            "****************************************\n",
            "Shape of PPG 4 =  (179060, 120)\n",
            "Shape of ECG 4 =  (179060, 120)\n",
            "Shape of ID 4 =  (179060, 1)\n"
          ]
        }
      ]
    },
    {
      "cell_type": "code",
      "source": [
        "PPG1.head()"
      ],
      "metadata": {
        "jupyter": {
          "source_hidden": true
        },
        "execution": {
          "iopub.status.busy": "2022-10-14T14:57:57.915805Z",
          "iopub.execute_input": "2022-10-14T14:57:57.916161Z",
          "iopub.status.idle": "2022-10-14T14:57:57.942417Z",
          "shell.execute_reply.started": "2022-10-14T14:57:57.916123Z",
          "shell.execute_reply": "2022-10-14T14:57:57.941384Z"
        },
        "trusted": true,
        "colab": {
          "base_uri": "https://localhost:8080/",
          "height": 235
        },
        "id": "B7n7JbTIzGQp",
        "outputId": "3826f710-9f82-4217-8396-b1d37ebbdd72"
      },
      "execution_count": 8,
      "outputs": [
        {
          "output_type": "execute_result",
          "data": {
            "text/plain": [
              "       0        1        2        3        4        5        6        7    \\\n",
              "0  1.00000  0.99971  0.99898  0.99602  0.99104  0.98427  0.97570  0.96534   \n",
              "1  1.00000  0.99986  0.99938  0.99671  0.99211  0.98582  0.97781  0.96817   \n",
              "2  1.00000  0.99805  0.99416  0.98829  0.98048  0.97107  0.96004  0.94735   \n",
              "3  0.91394  0.91331  0.91198  0.90826  0.90231  0.89456  0.88500  0.87378   \n",
              "4  0.91259  0.91280  0.91298  0.91087  0.90681  0.90120  0.89398  0.88514   \n",
              "\n",
              "       8        9    ...      110      111      112      113      114  \\\n",
              "0  0.95313  0.93891  ...  0.86711  0.89480  0.91637  0.93424  0.95006   \n",
              "1  0.95657  0.94259  ...  0.87321  0.89588  0.91331  0.92665  0.93742   \n",
              "2  0.93303  0.91708  ...  0.83197  0.86486  0.89022  0.91013  0.92479   \n",
              "3  0.86088  0.84626  ...  0.86086  0.89582  0.92488  0.94820  0.96554   \n",
              "4  0.87469  0.86219  ...  0.91012  0.93643  0.95764  0.97392  0.98525   \n",
              "\n",
              "       115      116      117      118      119  \n",
              "0  0.96290  0.97265  0.97946  0.98329  0.98515  \n",
              "1  0.94541  0.95071  0.95352  0.95363  0.95355  \n",
              "2  0.93626  0.94502  0.95083  0.95364  0.95499  \n",
              "3  0.97851  0.98723  0.99360  0.99787  1.00000  \n",
              "4  0.99285  0.99716  0.99942  0.99987  1.00000  \n",
              "\n",
              "[5 rows x 120 columns]"
            ],
            "text/html": [
              "\n",
              "  <div id=\"df-2f04727b-f01c-4e8d-ac3a-c75541608333\">\n",
              "    <div class=\"colab-df-container\">\n",
              "      <div>\n",
              "<style scoped>\n",
              "    .dataframe tbody tr th:only-of-type {\n",
              "        vertical-align: middle;\n",
              "    }\n",
              "\n",
              "    .dataframe tbody tr th {\n",
              "        vertical-align: top;\n",
              "    }\n",
              "\n",
              "    .dataframe thead th {\n",
              "        text-align: right;\n",
              "    }\n",
              "</style>\n",
              "<table border=\"1\" class=\"dataframe\">\n",
              "  <thead>\n",
              "    <tr style=\"text-align: right;\">\n",
              "      <th></th>\n",
              "      <th>0</th>\n",
              "      <th>1</th>\n",
              "      <th>2</th>\n",
              "      <th>3</th>\n",
              "      <th>4</th>\n",
              "      <th>5</th>\n",
              "      <th>6</th>\n",
              "      <th>7</th>\n",
              "      <th>8</th>\n",
              "      <th>9</th>\n",
              "      <th>...</th>\n",
              "      <th>110</th>\n",
              "      <th>111</th>\n",
              "      <th>112</th>\n",
              "      <th>113</th>\n",
              "      <th>114</th>\n",
              "      <th>115</th>\n",
              "      <th>116</th>\n",
              "      <th>117</th>\n",
              "      <th>118</th>\n",
              "      <th>119</th>\n",
              "    </tr>\n",
              "  </thead>\n",
              "  <tbody>\n",
              "    <tr>\n",
              "      <th>0</th>\n",
              "      <td>1.00000</td>\n",
              "      <td>0.99971</td>\n",
              "      <td>0.99898</td>\n",
              "      <td>0.99602</td>\n",
              "      <td>0.99104</td>\n",
              "      <td>0.98427</td>\n",
              "      <td>0.97570</td>\n",
              "      <td>0.96534</td>\n",
              "      <td>0.95313</td>\n",
              "      <td>0.93891</td>\n",
              "      <td>...</td>\n",
              "      <td>0.86711</td>\n",
              "      <td>0.89480</td>\n",
              "      <td>0.91637</td>\n",
              "      <td>0.93424</td>\n",
              "      <td>0.95006</td>\n",
              "      <td>0.96290</td>\n",
              "      <td>0.97265</td>\n",
              "      <td>0.97946</td>\n",
              "      <td>0.98329</td>\n",
              "      <td>0.98515</td>\n",
              "    </tr>\n",
              "    <tr>\n",
              "      <th>1</th>\n",
              "      <td>1.00000</td>\n",
              "      <td>0.99986</td>\n",
              "      <td>0.99938</td>\n",
              "      <td>0.99671</td>\n",
              "      <td>0.99211</td>\n",
              "      <td>0.98582</td>\n",
              "      <td>0.97781</td>\n",
              "      <td>0.96817</td>\n",
              "      <td>0.95657</td>\n",
              "      <td>0.94259</td>\n",
              "      <td>...</td>\n",
              "      <td>0.87321</td>\n",
              "      <td>0.89588</td>\n",
              "      <td>0.91331</td>\n",
              "      <td>0.92665</td>\n",
              "      <td>0.93742</td>\n",
              "      <td>0.94541</td>\n",
              "      <td>0.95071</td>\n",
              "      <td>0.95352</td>\n",
              "      <td>0.95363</td>\n",
              "      <td>0.95355</td>\n",
              "    </tr>\n",
              "    <tr>\n",
              "      <th>2</th>\n",
              "      <td>1.00000</td>\n",
              "      <td>0.99805</td>\n",
              "      <td>0.99416</td>\n",
              "      <td>0.98829</td>\n",
              "      <td>0.98048</td>\n",
              "      <td>0.97107</td>\n",
              "      <td>0.96004</td>\n",
              "      <td>0.94735</td>\n",
              "      <td>0.93303</td>\n",
              "      <td>0.91708</td>\n",
              "      <td>...</td>\n",
              "      <td>0.83197</td>\n",
              "      <td>0.86486</td>\n",
              "      <td>0.89022</td>\n",
              "      <td>0.91013</td>\n",
              "      <td>0.92479</td>\n",
              "      <td>0.93626</td>\n",
              "      <td>0.94502</td>\n",
              "      <td>0.95083</td>\n",
              "      <td>0.95364</td>\n",
              "      <td>0.95499</td>\n",
              "    </tr>\n",
              "    <tr>\n",
              "      <th>3</th>\n",
              "      <td>0.91394</td>\n",
              "      <td>0.91331</td>\n",
              "      <td>0.91198</td>\n",
              "      <td>0.90826</td>\n",
              "      <td>0.90231</td>\n",
              "      <td>0.89456</td>\n",
              "      <td>0.88500</td>\n",
              "      <td>0.87378</td>\n",
              "      <td>0.86088</td>\n",
              "      <td>0.84626</td>\n",
              "      <td>...</td>\n",
              "      <td>0.86086</td>\n",
              "      <td>0.89582</td>\n",
              "      <td>0.92488</td>\n",
              "      <td>0.94820</td>\n",
              "      <td>0.96554</td>\n",
              "      <td>0.97851</td>\n",
              "      <td>0.98723</td>\n",
              "      <td>0.99360</td>\n",
              "      <td>0.99787</td>\n",
              "      <td>1.00000</td>\n",
              "    </tr>\n",
              "    <tr>\n",
              "      <th>4</th>\n",
              "      <td>0.91259</td>\n",
              "      <td>0.91280</td>\n",
              "      <td>0.91298</td>\n",
              "      <td>0.91087</td>\n",
              "      <td>0.90681</td>\n",
              "      <td>0.90120</td>\n",
              "      <td>0.89398</td>\n",
              "      <td>0.88514</td>\n",
              "      <td>0.87469</td>\n",
              "      <td>0.86219</td>\n",
              "      <td>...</td>\n",
              "      <td>0.91012</td>\n",
              "      <td>0.93643</td>\n",
              "      <td>0.95764</td>\n",
              "      <td>0.97392</td>\n",
              "      <td>0.98525</td>\n",
              "      <td>0.99285</td>\n",
              "      <td>0.99716</td>\n",
              "      <td>0.99942</td>\n",
              "      <td>0.99987</td>\n",
              "      <td>1.00000</td>\n",
              "    </tr>\n",
              "  </tbody>\n",
              "</table>\n",
              "<p>5 rows × 120 columns</p>\n",
              "</div>\n",
              "      <button class=\"colab-df-convert\" onclick=\"convertToInteractive('df-2f04727b-f01c-4e8d-ac3a-c75541608333')\"\n",
              "              title=\"Convert this dataframe to an interactive table.\"\n",
              "              style=\"display:none;\">\n",
              "        \n",
              "  <svg xmlns=\"http://www.w3.org/2000/svg\" height=\"24px\"viewBox=\"0 0 24 24\"\n",
              "       width=\"24px\">\n",
              "    <path d=\"M0 0h24v24H0V0z\" fill=\"none\"/>\n",
              "    <path d=\"M18.56 5.44l.94 2.06.94-2.06 2.06-.94-2.06-.94-.94-2.06-.94 2.06-2.06.94zm-11 1L8.5 8.5l.94-2.06 2.06-.94-2.06-.94L8.5 2.5l-.94 2.06-2.06.94zm10 10l.94 2.06.94-2.06 2.06-.94-2.06-.94-.94-2.06-.94 2.06-2.06.94z\"/><path d=\"M17.41 7.96l-1.37-1.37c-.4-.4-.92-.59-1.43-.59-.52 0-1.04.2-1.43.59L10.3 9.45l-7.72 7.72c-.78.78-.78 2.05 0 2.83L4 21.41c.39.39.9.59 1.41.59.51 0 1.02-.2 1.41-.59l7.78-7.78 2.81-2.81c.8-.78.8-2.07 0-2.86zM5.41 20L4 18.59l7.72-7.72 1.47 1.35L5.41 20z\"/>\n",
              "  </svg>\n",
              "      </button>\n",
              "      \n",
              "  <style>\n",
              "    .colab-df-container {\n",
              "      display:flex;\n",
              "      flex-wrap:wrap;\n",
              "      gap: 12px;\n",
              "    }\n",
              "\n",
              "    .colab-df-convert {\n",
              "      background-color: #E8F0FE;\n",
              "      border: none;\n",
              "      border-radius: 50%;\n",
              "      cursor: pointer;\n",
              "      display: none;\n",
              "      fill: #1967D2;\n",
              "      height: 32px;\n",
              "      padding: 0 0 0 0;\n",
              "      width: 32px;\n",
              "    }\n",
              "\n",
              "    .colab-df-convert:hover {\n",
              "      background-color: #E2EBFA;\n",
              "      box-shadow: 0px 1px 2px rgba(60, 64, 67, 0.3), 0px 1px 3px 1px rgba(60, 64, 67, 0.15);\n",
              "      fill: #174EA6;\n",
              "    }\n",
              "\n",
              "    [theme=dark] .colab-df-convert {\n",
              "      background-color: #3B4455;\n",
              "      fill: #D2E3FC;\n",
              "    }\n",
              "\n",
              "    [theme=dark] .colab-df-convert:hover {\n",
              "      background-color: #434B5C;\n",
              "      box-shadow: 0px 1px 3px 1px rgba(0, 0, 0, 0.15);\n",
              "      filter: drop-shadow(0px 1px 2px rgba(0, 0, 0, 0.3));\n",
              "      fill: #FFFFFF;\n",
              "    }\n",
              "  </style>\n",
              "\n",
              "      <script>\n",
              "        const buttonEl =\n",
              "          document.querySelector('#df-2f04727b-f01c-4e8d-ac3a-c75541608333 button.colab-df-convert');\n",
              "        buttonEl.style.display =\n",
              "          google.colab.kernel.accessAllowed ? 'block' : 'none';\n",
              "\n",
              "        async function convertToInteractive(key) {\n",
              "          const element = document.querySelector('#df-2f04727b-f01c-4e8d-ac3a-c75541608333');\n",
              "          const dataTable =\n",
              "            await google.colab.kernel.invokeFunction('convertToInteractive',\n",
              "                                                     [key], {});\n",
              "          if (!dataTable) return;\n",
              "\n",
              "          const docLinkHtml = 'Like what you see? Visit the ' +\n",
              "            '<a target=\"_blank\" href=https://colab.research.google.com/notebooks/data_table.ipynb>data table notebook</a>'\n",
              "            + ' to learn more about interactive tables.';\n",
              "          element.innerHTML = '';\n",
              "          dataTable['output_type'] = 'display_data';\n",
              "          await google.colab.output.renderOutput(dataTable, element);\n",
              "          const docLink = document.createElement('div');\n",
              "          docLink.innerHTML = docLinkHtml;\n",
              "          element.appendChild(docLink);\n",
              "        }\n",
              "      </script>\n",
              "    </div>\n",
              "  </div>\n",
              "  "
            ]
          },
          "metadata": {},
          "execution_count": 8
        }
      ]
    },
    {
      "cell_type": "code",
      "source": [
        "PPG_train ,PPG_test = F.train_test_seperator_all([PPG1 , PPG2,PPG3,PPG4],[ID1,ID2,ID3,ID4],1,301)"
      ],
      "metadata": {
        "id": "i-mJwAeUrStf"
      },
      "execution_count": 9,
      "outputs": []
    },
    {
      "cell_type": "code",
      "source": [
        "ECG_train ,ECG_test = F.train_test_seperator_all([ECG1 , ECG2,ECG3,ECG4],[ID1,ID2,ID3,ID4],1,301)"
      ],
      "metadata": {
        "execution": {
          "iopub.status.busy": "2022-10-14T14:57:57.946387Z",
          "iopub.execute_input": "2022-10-14T14:57:57.946654Z",
          "iopub.status.idle": "2022-10-14T14:57:58.184661Z",
          "shell.execute_reply.started": "2022-10-14T14:57:57.946629Z",
          "shell.execute_reply": "2022-10-14T14:57:58.183698Z"
        },
        "trusted": true,
        "id": "nZ_J8qtVzGQr"
      },
      "execution_count": 10,
      "outputs": []
    },
    {
      "cell_type": "code",
      "source": [
        "PPG_train.shape , PPG_test.shape , ECG_train.shape , ECG_test.shape"
      ],
      "metadata": {
        "colab": {
          "base_uri": "https://localhost:8080/"
        },
        "id": "hLF94b1Isybs",
        "outputId": "5d882ea5-9193-4f1c-ef6d-23efb32d0dcb"
      },
      "execution_count": 11,
      "outputs": [
        {
          "output_type": "execute_result",
          "data": {
            "text/plain": [
              "((632240, 120), (59330, 120), (632240, 120), (59330, 120))"
            ]
          },
          "metadata": {},
          "execution_count": 11
        }
      ]
    },
    {
      "cell_type": "code",
      "source": [
        "plt.plot(ECG_train.iloc[0,:].values);\n",
        "plt.xlabel('time');\n",
        "plt.ylabel('amplitude');\n",
        "plt.title(\"ECG\");\n",
        "\n",
        "plt.figure();\n",
        "plt.plot(PPG_train.iloc[0,:].values);\n",
        "plt.xlabel('time');\n",
        "plt.ylabel('amplitude');\n",
        "plt.title(\"PPG\");"
      ],
      "metadata": {
        "execution": {
          "iopub.status.busy": "2022-10-14T14:57:58.483922Z",
          "iopub.execute_input": "2022-10-14T14:57:58.484689Z",
          "iopub.status.idle": "2022-10-14T14:57:58.912885Z",
          "shell.execute_reply.started": "2022-10-14T14:57:58.484649Z",
          "shell.execute_reply": "2022-10-14T14:57:58.911667Z"
        },
        "trusted": true,
        "colab": {
          "base_uri": "https://localhost:8080/",
          "height": 573
        },
        "id": "eCYZcal0zGQu",
        "outputId": "15ce6537-639f-492e-f68c-20e8df0aa1eb"
      },
      "execution_count": 12,
      "outputs": [
        {
          "output_type": "display_data",
          "data": {
            "text/plain": [
              "<Figure size 432x288 with 1 Axes>"
            ],
            "image/png": "[encoded data removed]"
          },
          "metadata": {
            "needs_background": "light"
          }
        },
        {
          "output_type": "display_data",
          "data": {
            "text/plain": [
              "<Figure size 432x288 with 1 Axes>"
            ],
            "image/png": "[encoded data removed]"
          },
          "metadata": {
            "needs_background": "light"
          }
        }
      ]
    },
    {
      "cell_type": "markdown",
      "source": [
        "# Some Data Visualization"
      ],
      "metadata": {
        "id": "cPH002hus9GX"
      }
    },
    {
      "cell_type": "code",
      "source": [
        "PPG_train , ECG_train= F.all_together(PPG_train,ECG_train, 1,[(2,-1.75),(1.5,-1.5),(0.75,-0.65)])[2:]"
      ],
      "metadata": {
        "colab": {
          "base_uri": "https://localhost:8080/",
          "height": 1000
        },
        "id": "RaAT0-95s6rl",
        "outputId": "9f5aae59-4dba-4475-8c21-1dd8eeeb1d4e"
      },
      "execution_count": 13,
      "outputs": [
        {
          "output_type": "stream",
          "name": "stdout",
          "text": [
            "variance ratio is  [0.40243247 0.28516978 0.11556709]\n",
            "outliers from  pca1  column is  (3571,)\n",
            "outliers from  pca2  column is  (10959,)\n",
            "outliers from  pca3  column is  (17591,)\n",
            "histogram of pca with and without outliers\n",
            "shape with outliers is  (632240, 120)\n",
            "shape without outliers is (600119, 120)\n"
          ]
        },
        {
          "output_type": "display_data",
          "data": {
            "text/plain": [
              "<Figure size 432x288 with 1 Axes>"
            ],
            "image/png": "[encoded data removed]"
          },
          "metadata": {
            "needs_background": "light"
          }
        },
        {
          "output_type": "display_data",
          "data": {
            "text/plain": [
              "<Figure size 432x288 with 1 Axes>"
            ],
            "image/png": "[encoded data removed]"
          },
          "metadata": {
            "needs_background": "light"
          }
        },
        {
          "output_type": "display_data",
          "data": {
            "text/plain": [
              "<Figure size 432x288 with 1 Axes>"
            ],
            "image/png": "[encoded data removed]"
          },
          "metadata": {
            "needs_background": "light"
          }
        },
        {
          "output_type": "display_data",
          "data": {
            "text/plain": [
              "<Figure size 432x288 with 1 Axes>"
            ],
            "image/png": "[encoded data removed]"
          },
          "metadata": {
            "needs_background": "light"
          }
        },
        {
          "output_type": "display_data",
          "data": {
            "text/plain": [
              "<Figure size 432x288 with 1 Axes>"
            ],
            "image/png": "[encoded data removed]"
          },
          "metadata": {
            "needs_background": "light"
          }
        },
        {
          "output_type": "display_data",
          "data": {
            "text/plain": [
              "<Figure size 432x288 with 1 Axes>"
            ],
            "image/png": "[encoded data removed]"
          },
          "metadata": {
            "needs_background": "light"
          }
        }
      ]
    },
    {
      "cell_type": "code",
      "source": [
        "PPG_test  , ECG_test  = F.all_together(PPG_test,ECG_test, 1,[(2,-1.75),(1.5,-1.5),(0.75,-0.65)])[2:]       "
      ],
      "metadata": {
        "colab": {
          "base_uri": "https://localhost:8080/",
          "height": 1000
        },
        "id": "XasMxJIts68T",
        "outputId": "7d9432e7-a1db-448f-b79a-14bfc4a86480"
      },
      "execution_count": 14,
      "outputs": [
        {
          "output_type": "stream",
          "name": "stdout",
          "text": [
            "variance ratio is  [0.37639139 0.25840037 0.12860031]\n",
            "outliers from  pca1  column is  (20,)\n",
            "outliers from  pca2  column is  (478,)\n",
            "outliers from  pca3  column is  (1435,)\n",
            "histogram of pca with and without outliers\n",
            "shape with outliers is  (59330, 120)\n",
            "shape without outliers is (57397, 120)\n"
          ]
        },
        {
          "output_type": "display_data",
          "data": {
            "text/plain": [
              "<Figure size 432x288 with 1 Axes>"
            ],
            "image/png": "[encoded data removed]"
          },
          "metadata": {
            "needs_background": "light"
          }
        },
        {
          "output_type": "display_data",
          "data": {
            "text/plain": [
              "<Figure size 432x288 with 1 Axes>"
            ],
            "image/png": "[encoded data removed]"
          },
          "metadata": {
            "needs_background": "light"
          }
        },
        {
          "output_type": "display_data",
          "data": {
            "text/plain": [
              "<Figure size 432x288 with 1 Axes>"
            ],
            "image/png": "[encoded data removed]"
          },
          "metadata": {
            "needs_background": "light"
          }
        },
        {
          "output_type": "display_data",
          "data": {
            "text/plain": [
              "<Figure size 432x288 with 1 Axes>"
            ],
            "image/png": "[encoded data removed]"
          },
          "metadata": {
            "needs_background": "light"
          }
        },
        {
          "output_type": "display_data",
          "data": {
            "text/plain": [
              "<Figure size 432x288 with 1 Axes>"
            ],
            "image/png": "[encoded data removed]"
          },
          "metadata": {
            "needs_background": "light"
          }
        },
        {
          "output_type": "display_data",
          "data": {
            "text/plain": [
              "<Figure size 432x288 with 1 Axes>"
            ],
            "image/png": "[encoded data removed]"
          },
          "metadata": {
            "needs_background": "light"
          }
        }
      ]
    },
    {
      "cell_type": "markdown",
      "source": [
        "#Training and testing data preprocessing"
      ],
      "metadata": {
        "id": "fZJTzuld1jGR"
      }
    },
    {
      "cell_type": "code",
      "source": [
        "# Define global constants to be used in this notebook\n",
        "BATCH_SIZE = 32\n",
        "LATENT_DIM=128"
      ],
      "metadata": {
        "execution": {
          "iopub.status.busy": "2022-10-14T14:59:02.922674Z",
          "iopub.execute_input": "2022-10-14T14:59:02.922998Z",
          "iopub.status.idle": "2022-10-14T14:59:02.929943Z",
          "shell.execute_reply.started": "2022-10-14T14:59:02.922973Z",
          "shell.execute_reply": "2022-10-14T14:59:02.928989Z"
        },
        "trusted": true,
        "id": "BfprMaVCzGRN"
      },
      "execution_count": 15,
      "outputs": []
    },
    {
      "cell_type": "code",
      "source": [
        "def get_dataset(training_df,is_validation=False,BATCH_SIZE=32):\n",
        "    '''Loads and prepares the mnist dataset from TFDS'''\n",
        "    if is_validation:\n",
        "        split_name = \"test\"\n",
        "    else:\n",
        "        split_name = \"train\"\n",
        "    tf.executing_eagerly()\n",
        "    features = training_df.columns\n",
        "    training_dataset = (tf.data.Dataset.from_tensor_slices((tf.cast(training_df[features].values, tf.float32),)))\n",
        "    dataset = training_dataset.batch(BATCH_SIZE)\n",
        "    return dataset\n"
      ],
      "metadata": {
        "id": "yGT3JmUHz48j"
      },
      "execution_count": 16,
      "outputs": []
    },
    {
      "cell_type": "code",
      "source": [
        "#for shuffling\n",
        "indexes_train = np.random.randint(0,PPG_train.shape[0],PPG_train.shape[0])\n",
        "train_dataset_ppg = get_dataset(PPG_train.iloc[indexes_train,:],True,32)\n",
        "train_dataset_ecg = get_dataset(ECG_train.iloc[indexes_train,:],True,32)\n",
        "\n",
        "indexes_test = np.random.randint(0,PPG_test.shape[0],PPG_test.shape[0])\n",
        "test_dataset_ppg = get_dataset(PPG_test.iloc[indexes_test,:],True,32)\n",
        "test_dataset_ecg = get_dataset(ECG_test.iloc[indexes_test,:],True,32)\n"
      ],
      "metadata": {
        "id": "JWCSYf9r0tQp"
      },
      "execution_count": 17,
      "outputs": []
    },
    {
      "cell_type": "markdown",
      "source": [
        "# Variational autoencoder functions"
      ],
      "metadata": {
        "id": "YzgMsAyszGRN"
      }
    },
    {
      "cell_type": "code",
      "source": [
        "class Sampling(tf.keras.layers.Layer):\n",
        "    \n",
        "    def call(self, inputs):\n",
        "        \"\"\"Generates a random sample and combines with encoder output\n",
        "\n",
        "        Args:\n",
        "          inputs -- output tensor from the encoder\n",
        "\n",
        "        Returns:\n",
        "      `inputs` tensors combined with a random sample\n",
        "        \"\"\"\n",
        "\n",
        "        # unpack the output of the encoder\n",
        "        mu, sigma = inputs\n",
        "\n",
        "        # get the size and dimensions of the batch\n",
        "        batch = tf.shape(mu)[0]\n",
        "        dim = tf.shape(mu)[1]\n",
        "\n",
        "        # generate a random tensor\n",
        "        epsilon = tf.keras.backend.random_normal(shape=(batch, dim))\n",
        "\n",
        "        # combine the inputs and noise\n",
        "        return mu + tf.exp(0.5 * sigma) * epsilon\n",
        "    def get_config(self):\n",
        "      config = super(Sampling, self).get_config()\n",
        "      return config"
      ],
      "metadata": {
        "execution": {
          "iopub.status.busy": "2022-10-14T14:59:12.761416Z",
          "iopub.execute_input": "2022-10-14T14:59:12.762004Z",
          "iopub.status.idle": "2022-10-14T14:59:12.770745Z",
          "shell.execute_reply.started": "2022-10-14T14:59:12.761965Z",
          "shell.execute_reply": "2022-10-14T14:59:12.769252Z"
        },
        "trusted": true,
        "id": "TZlFYRjizGRO"
      },
      "execution_count": 18,
      "outputs": []
    },
    {
      "cell_type": "code",
      "source": [
        "def encoder_layers(inputs, latent_dim):\n",
        "  \"\"\"Defines the encoder's layers\n",
        "  Args:\n",
        "    inputs -- batch from the dataset\n",
        "    latent_dim -- dimensionality of the latent space\n",
        "  \n",
        "  Returns:\n",
        "    mu -- learned mean\n",
        "    sigma -- learned standard deviation\n",
        "    batch_2.shape -- shape of the features before flattening\n",
        "  \"\"\"\n",
        "\n",
        "  x = Conv1D(256, 5, padding=\"same\")(inputs)\n",
        "  x = LeakyReLU()(x)\n",
        "  x = BatchNormalization()(x)\n",
        "  x = MaxPooling1D(2, padding='same')(x)\n",
        "    \n",
        "  x = Conv1D(512, 5, padding=\"same\")(inputs)\n",
        "  x = LeakyReLU()(x)\n",
        "  x = BatchNormalization()(x)\n",
        "  x = MaxPooling1D(2, padding='same')(x)\n",
        "\n",
        "  x = Conv1D(128, 5, padding='same')(x)\n",
        "  x = LeakyReLU()(x)\n",
        "  x = BatchNormalization()(x)\n",
        "  x = MaxPooling1D(2, padding='same')(x)\n",
        "\n",
        "  x = Conv1D(64, 3, padding='same')(x)\n",
        "  x = LeakyReLU()(x)\n",
        "  x = BatchNormalization()(x)\n",
        "  x = MaxPooling1D(2, padding='same')(x)\n",
        "\n",
        "  x = Conv1D(32,3, activation='relu', padding='same')(x)\n",
        "  batch_2 = tf.keras.layers.BatchNormalization()(x)\n",
        "  x = tf.keras.layers.Flatten(name=\"encode_flatten\")(batch_2)\n",
        "\n",
        "  \n",
        "\n",
        "  # we arbitrarily used 20 units here but feel free to change and see what results you get\n",
        "  x = tf.keras.layers.Dense(60, activation=\"relu\", name=\"encoder_dense\")(x)\n",
        "  x = tf.keras.layers.BatchNormalization()(x)\n",
        "\n",
        "  # add output Dense networks for mu and sigma, units equal to the declared latent_dim\n",
        "  mu = tf.keras.layers.Dense(latent_dim, name=\"latent_mu\")(x)\n",
        "  sigma = tf.keras.layers.Dense(latent_dim, name=\"latent_sigma\")(x)\n",
        "\n",
        "  return mu, sigma, batch_2.shape"
      ],
      "metadata": {
        "execution": {
          "iopub.status.busy": "2022-10-14T14:59:12.774045Z",
          "iopub.execute_input": "2022-10-14T14:59:12.776271Z",
          "iopub.status.idle": "2022-10-14T14:59:12.795648Z",
          "shell.execute_reply.started": "2022-10-14T14:59:12.776228Z",
          "shell.execute_reply": "2022-10-14T14:59:12.794605Z"
        },
        "trusted": true,
        "id": "hJciuPNTzGRO"
      },
      "execution_count": 19,
      "outputs": []
    },
    {
      "cell_type": "code",
      "source": [
        "def encoder_model(latent_dim, input_shape):\n",
        "    \"\"\"Defines the encoder model with the Sampling layer\n",
        "\n",
        "     Args:\n",
        "      latent_dim -- dimensionality of the latent space\n",
        "      input_shape -- shape of the dataset batch\n",
        "\n",
        "    Returns:\n",
        "     model -- the encoder model\n",
        "      conv_shape -- shape of the features before flattening\n",
        "    \"\"\"\n",
        "\n",
        "    # declare the inputs tensor with the given shape\n",
        "    inputs = tf.keras.layers.Input(shape=input_shape)\n",
        "\n",
        "    # get the output of the encoder_layers() function\n",
        "    mu, sigma, conv_shape = encoder_layers(inputs, latent_dim=LATENT_DIM)\n",
        "\n",
        "    # feed mu and sigma to the sampling layer\n",
        "    z = Sampling()((mu, sigma))\n",
        "\n",
        "    # build the whole encoder model\n",
        "    model = tf.keras.Model(inputs=inputs, outputs=[mu, sigma, z])\n",
        "\n",
        "    return model, conv_shape"
      ],
      "metadata": {
        "execution": {
          "iopub.status.busy": "2022-10-14T14:59:12.800304Z",
          "iopub.execute_input": "2022-10-14T14:59:12.803371Z",
          "iopub.status.idle": "2022-10-14T14:59:12.812867Z",
          "shell.execute_reply.started": "2022-10-14T14:59:12.803332Z",
          "shell.execute_reply": "2022-10-14T14:59:12.811659Z"
        },
        "trusted": true,
        "id": "X3s1HH5izGRP"
      },
      "execution_count": 20,
      "outputs": []
    },
    {
      "cell_type": "code",
      "source": [
        "def decoder_layers(inputs, conv_shape):\n",
        "  \"\"\"Defines the decoder layer\n",
        "  Args:\n",
        "    inputs -- output of the decoder\n",
        "    conv_shape -- shape of the features before flattening\n",
        "\n",
        "  Returns:\n",
        "    tensor containing the decoded output\n",
        "  \"\"\"\n",
        "\n",
        "  # feed to a Dense network with units computed from the conv_shape dimensions\n",
        "  units = conv_shape[1] * conv_shape[2] \n",
        "  x = tf.keras.layers.Dense(units, name=\"decode_dense1\")(inputs)\n",
        "  x = LeakyReLU()(x)\n",
        "  x = tf.keras.layers.BatchNormalization()(x)\n",
        "\n",
        "  # reshape output using the conv_shape dimensions\n",
        "  x = tf.keras.layers.Reshape((conv_shape[1], conv_shape[2]), name=\"decode_reshape\")(x)\n",
        "\n",
        "  # upsample the features back to the original dimensions\n",
        "  x = Conv1DTranspose(32, 3 , padding='same',strides = 2)(x)\n",
        "  x = LeakyReLU()(x)\n",
        "  x = tf.keras.layers.BatchNormalization()(x)\n",
        "  #x = UpSampling1D(2)(x)\n",
        "    \n",
        "  x = Conv1DTranspose(64, 3, padding='same',strides = 2)(x)\n",
        "  x = LeakyReLU()(x)\n",
        "  x = tf.keras.layers.BatchNormalization()(x)\n",
        "  #x = UpSampling1D(2)(x)\n",
        "    \n",
        "  x = Conv1DTranspose(128, 5, padding='same',strides = 2)(x)\n",
        "  x = LeakyReLU()(x)\n",
        "  x = tf.keras.layers.BatchNormalization()(x)\n",
        "  #x = UpSampling1D(2)(x)\n",
        "  \n",
        "  x = Conv1DTranspose(512, 5, activation='relu', padding='same')(x)\n",
        "  x = tf.keras.layers.BatchNormalization()(x)\n",
        "  #x = UpSampling1D(2)(x)\n",
        "    \n",
        "  \n",
        "  x = Conv1DTranspose(1, 5, activation='relu', padding='same')(x)\n",
        " # x = UpSampling1D(2)(x)\n",
        "  #x = Dense(120, activation='relu')(x)\n",
        "\n",
        "  return x"
      ],
      "metadata": {
        "execution": {
          "iopub.status.busy": "2022-10-14T14:59:12.817181Z",
          "iopub.execute_input": "2022-10-14T14:59:12.819507Z",
          "iopub.status.idle": "2022-10-14T14:59:12.832664Z",
          "shell.execute_reply.started": "2022-10-14T14:59:12.819471Z",
          "shell.execute_reply": "2022-10-14T14:59:12.831781Z"
        },
        "trusted": true,
        "id": "Gnph96v6zGRP"
      },
      "execution_count": 21,
      "outputs": []
    },
    {
      "cell_type": "code",
      "source": [
        "def decoder_model(latent_dim, conv_shape):\n",
        "    inputs = tf.keras.layers.Input(shape=(latent_dim,))\n",
        "\n",
        "    # get the output of the decoder layers\n",
        "    outputs = decoder_layers(inputs, conv_shape)\n",
        "\n",
        "    # declare the inputs and outputs of the model\n",
        "    model = tf.keras.Model(inputs, outputs)\n",
        "\n",
        "    return model"
      ],
      "metadata": {
        "execution": {
          "iopub.status.busy": "2022-10-14T14:59:12.834154Z",
          "iopub.execute_input": "2022-10-14T14:59:12.834881Z",
          "iopub.status.idle": "2022-10-14T14:59:12.843086Z",
          "shell.execute_reply.started": "2022-10-14T14:59:12.834845Z",
          "shell.execute_reply": "2022-10-14T14:59:12.842016Z"
        },
        "trusted": true,
        "id": "pTr7niBqzGRQ"
      },
      "execution_count": 22,
      "outputs": []
    },
    {
      "cell_type": "code",
      "source": [
        "def kl_reconstruction_loss(inputs, outputs, mu, sigma):\n",
        "    \n",
        "    # honestly, to truly understand this loss is challenging to me\n",
        "    kl_loss = 1 + sigma - tf.square(mu) - tf.math.exp(sigma)\n",
        "    kl_loss = tf.reduce_mean(kl_loss) * - 0.5\n",
        "\n",
        "    return kl_loss\n"
      ],
      "metadata": {
        "execution": {
          "iopub.status.busy": "2022-10-14T14:59:12.844479Z",
          "iopub.execute_input": "2022-10-14T14:59:12.845243Z",
          "iopub.status.idle": "2022-10-14T14:59:12.857034Z",
          "shell.execute_reply.started": "2022-10-14T14:59:12.845205Z",
          "shell.execute_reply": "2022-10-14T14:59:12.855964Z"
        },
        "trusted": true,
        "id": "DtjpmtDxzGRQ"
      },
      "execution_count": 23,
      "outputs": []
    },
    {
      "cell_type": "code",
      "source": [
        "def vae_model(encoder, decoder, input_shape):\n",
        "\n",
        "    # set the inputs\n",
        "    inputs = tf.keras.layers.Input(shape=input_shape)\n",
        "\n",
        "    # get mu, sigma, and z from the encoder output\n",
        "    mu, sigma, z = encoder(inputs)\n",
        "\n",
        "    # get reconstructed output from the encoder\n",
        "    reconstructed = decoder(z)\n",
        "\n",
        "    # define the inputs and outputs to the VAE\n",
        "    model = tf.keras.Model(inputs=inputs, outputs=reconstructed)\n",
        "\n",
        "    # add the KL loss\n",
        "    loss = kl_reconstruction_loss(inputs, z, mu, sigma)\n",
        "    model.add_loss(loss)\n",
        "\n",
        "    return model\n"
      ],
      "metadata": {
        "execution": {
          "iopub.status.busy": "2022-10-14T14:59:12.858644Z",
          "iopub.execute_input": "2022-10-14T14:59:12.859041Z",
          "iopub.status.idle": "2022-10-14T14:59:12.869583Z",
          "shell.execute_reply.started": "2022-10-14T14:59:12.859006Z",
          "shell.execute_reply": "2022-10-14T14:59:12.867866Z"
        },
        "trusted": true,
        "id": "akv_PnX4zGRR"
      },
      "execution_count": 24,
      "outputs": []
    },
    {
      "cell_type": "code",
      "source": [
        "def get_models(input_shape, latent_dim):\n",
        "  \n",
        "    encoder, conv_shape = encoder_model(latent_dim=latent_dim, input_shape=input_shape)\n",
        "    decoder = decoder_model(latent_dim=latent_dim, conv_shape=conv_shape)\n",
        "    vae = vae_model(encoder, decoder, input_shape=input_shape)\n",
        "    return encoder, decoder, vae"
      ],
      "metadata": {
        "execution": {
          "iopub.status.busy": "2022-10-14T14:59:12.871396Z",
          "iopub.execute_input": "2022-10-14T14:59:12.871803Z",
          "iopub.status.idle": "2022-10-14T14:59:12.881283Z",
          "shell.execute_reply.started": "2022-10-14T14:59:12.871770Z",
          "shell.execute_reply": "2022-10-14T14:59:12.879861Z"
        },
        "trusted": true,
        "id": "58XeTAd0zGRR"
      },
      "execution_count": 25,
      "outputs": []
    },
    {
      "cell_type": "markdown",
      "source": [
        "#Model instantiating"
      ],
      "metadata": {
        "id": "9A-eefgi1yQ5"
      }
    },
    {
      "cell_type": "code",
      "source": [
        "# Get the encoder, decoder and 'master' model (called vae)\n",
        "encoder, decoder, vae = get_models(input_shape=(120,1), latent_dim=LATENT_DIM)"
      ],
      "metadata": {
        "execution": {
          "iopub.status.busy": "2022-10-14T14:59:12.882965Z",
          "iopub.execute_input": "2022-10-14T14:59:12.883370Z",
          "iopub.status.idle": "2022-10-14T14:59:13.655812Z",
          "shell.execute_reply.started": "2022-10-14T14:59:12.883335Z",
          "shell.execute_reply": "2022-10-14T14:59:13.654800Z"
        },
        "trusted": true,
        "id": "cNm-U-7xzGRR"
      },
      "execution_count": 26,
      "outputs": []
    },
    {
      "cell_type": "code",
      "source": [
        "encoder.summary()"
      ],
      "metadata": {
        "execution": {
          "iopub.status.busy": "2022-10-14T14:59:13.660832Z",
          "iopub.execute_input": "2022-10-14T14:59:13.662865Z",
          "iopub.status.idle": "2022-10-14T14:59:13.676600Z",
          "shell.execute_reply.started": "2022-10-14T14:59:13.662823Z",
          "shell.execute_reply": "2022-10-14T14:59:13.675277Z"
        },
        "trusted": true,
        "colab": {
          "base_uri": "https://localhost:8080/"
        },
        "id": "fs76qROHzGRS",
        "outputId": "b022f11d-2b18-487c-b71d-6aff5e5872a7"
      },
      "execution_count": 27,
      "outputs": [
        {
          "output_type": "stream",
          "name": "stdout",
          "text": [
            "Model: \"model\"\n",
            "__________________________________________________________________________________________________\n",
            " Layer (type)                   Output Shape         Param #     Connected to                     \n",
            "==================================================================================================\n",
            " input_1 (InputLayer)           [(None, 120, 1)]     0           []                               \n",
            "                                                                                                  \n",
            " conv1d_1 (Conv1D)              (None, 120, 512)     3072        ['input_1[0][0]']                \n",
            "                                                                                                  \n",
            " leaky_re_lu_1 (LeakyReLU)      (None, 120, 512)     0           ['conv1d_1[0][0]']               \n",
            "                                                                                                  \n",
            " batch_normalization_1 (BatchNo  (None, 120, 512)    2048        ['leaky_re_lu_1[0][0]']          \n",
            " rmalization)                                                                                     \n",
            "                                                                                                  \n",
            " max_pooling1d_1 (MaxPooling1D)  (None, 60, 512)     0           ['batch_normalization_1[0][0]']  \n",
            "                                                                                                  \n",
            " conv1d_2 (Conv1D)              (None, 60, 128)      327808      ['max_pooling1d_1[0][0]']        \n",
            "                                                                                                  \n",
            " leaky_re_lu_2 (LeakyReLU)      (None, 60, 128)      0           ['conv1d_2[0][0]']               \n",
            "                                                                                                  \n",
            " batch_normalization_2 (BatchNo  (None, 60, 128)     512         ['leaky_re_lu_2[0][0]']          \n",
            " rmalization)                                                                                     \n",
            "                                                                                                  \n",
            " max_pooling1d_2 (MaxPooling1D)  (None, 30, 128)     0           ['batch_normalization_2[0][0]']  \n",
            "                                                                                                  \n",
            " conv1d_3 (Conv1D)              (None, 30, 64)       24640       ['max_pooling1d_2[0][0]']        \n",
            "                                                                                                  \n",
            " leaky_re_lu_3 (LeakyReLU)      (None, 30, 64)       0           ['conv1d_3[0][0]']               \n",
            "                                                                                                  \n",
            " batch_normalization_3 (BatchNo  (None, 30, 64)      256         ['leaky_re_lu_3[0][0]']          \n",
            " rmalization)                                                                                     \n",
            "                                                                                                  \n",
            " max_pooling1d_3 (MaxPooling1D)  (None, 15, 64)      0           ['batch_normalization_3[0][0]']  \n",
            "                                                                                                  \n",
            " conv1d_4 (Conv1D)              (None, 15, 32)       6176        ['max_pooling1d_3[0][0]']        \n",
            "                                                                                                  \n",
            " batch_normalization_4 (BatchNo  (None, 15, 32)      128         ['conv1d_4[0][0]']               \n",
            " rmalization)                                                                                     \n",
            "                                                                                                  \n",
            " encode_flatten (Flatten)       (None, 480)          0           ['batch_normalization_4[0][0]']  \n",
            "                                                                                                  \n",
            " encoder_dense (Dense)          (None, 60)           28860       ['encode_flatten[0][0]']         \n",
            "                                                                                                  \n",
            " batch_normalization_5 (BatchNo  (None, 60)          240         ['encoder_dense[0][0]']          \n",
            " rmalization)                                                                                     \n",
            "                                                                                                  \n",
            " latent_mu (Dense)              (None, 128)          7808        ['batch_normalization_5[0][0]']  \n",
            "                                                                                                  \n",
            " latent_sigma (Dense)           (None, 128)          7808        ['batch_normalization_5[0][0]']  \n",
            "                                                                                                  \n",
            " sampling (Sampling)            (None, 128)          0           ['latent_mu[0][0]',              \n",
            "                                                                  'latent_sigma[0][0]']           \n",
            "                                                                                                  \n",
            "==================================================================================================\n",
            "Total params: 409,356\n",
            "Trainable params: 407,764\n",
            "Non-trainable params: 1,592\n",
            "__________________________________________________________________________________________________\n"
          ]
        }
      ]
    },
    {
      "cell_type": "code",
      "source": [
        "decoder.summary()"
      ],
      "metadata": {
        "execution": {
          "iopub.status.busy": "2022-10-14T14:59:13.679047Z",
          "iopub.execute_input": "2022-10-14T14:59:13.683932Z",
          "iopub.status.idle": "2022-10-14T14:59:13.696874Z",
          "shell.execute_reply.started": "2022-10-14T14:59:13.683892Z",
          "shell.execute_reply": "2022-10-14T14:59:13.695937Z"
        },
        "trusted": true,
        "colab": {
          "base_uri": "https://localhost:8080/"
        },
        "id": "SpChm3J-zGRS",
        "outputId": "f6b5ff6c-19b8-4d4e-ba61-050c41e587aa"
      },
      "execution_count": 28,
      "outputs": [
        {
          "output_type": "stream",
          "name": "stdout",
          "text": [
            "Model: \"model_1\"\n",
            "_________________________________________________________________\n",
            " Layer (type)                Output Shape              Param #   \n",
            "=================================================================\n",
            " input_2 (InputLayer)        [(None, 128)]             0         \n",
            "                                                                 \n",
            " decode_dense1 (Dense)       (None, 480)               61920     \n",
            "                                                                 \n",
            " leaky_re_lu_4 (LeakyReLU)   (None, 480)               0         \n",
            "                                                                 \n",
            " batch_normalization_6 (Batc  (None, 480)              1920      \n",
            " hNormalization)                                                 \n",
            "                                                                 \n",
            " decode_reshape (Reshape)    (None, 15, 32)            0         \n",
            "                                                                 \n",
            " conv1d_transpose (Conv1DTra  (None, 30, 32)           3104      \n",
            " nspose)                                                         \n",
            "                                                                 \n",
            " leaky_re_lu_5 (LeakyReLU)   (None, 30, 32)            0         \n",
            "                                                                 \n",
            " batch_normalization_7 (Batc  (None, 30, 32)           128       \n",
            " hNormalization)                                                 \n",
            "                                                                 \n",
            " conv1d_transpose_1 (Conv1DT  (None, 60, 64)           6208      \n",
            " ranspose)                                                       \n",
            "                                                                 \n",
            " leaky_re_lu_6 (LeakyReLU)   (None, 60, 64)            0         \n",
            "                                                                 \n",
            " batch_normalization_8 (Batc  (None, 60, 64)           256       \n",
            " hNormalization)                                                 \n",
            "                                                                 \n",
            " conv1d_transpose_2 (Conv1DT  (None, 120, 128)         41088     \n",
            " ranspose)                                                       \n",
            "                                                                 \n",
            " leaky_re_lu_7 (LeakyReLU)   (None, 120, 128)          0         \n",
            "                                                                 \n",
            " batch_normalization_9 (Batc  (None, 120, 128)         512       \n",
            " hNormalization)                                                 \n",
            "                                                                 \n",
            " conv1d_transpose_3 (Conv1DT  (None, 120, 512)         328192    \n",
            " ranspose)                                                       \n",
            "                                                                 \n",
            " batch_normalization_10 (Bat  (None, 120, 512)         2048      \n",
            " chNormalization)                                                \n",
            "                                                                 \n",
            " conv1d_transpose_4 (Conv1DT  (None, 120, 1)           2561      \n",
            " ranspose)                                                       \n",
            "                                                                 \n",
            "=================================================================\n",
            "Total params: 447,937\n",
            "Trainable params: 445,505\n",
            "Non-trainable params: 2,432\n",
            "_________________________________________________________________\n"
          ]
        }
      ]
    },
    {
      "cell_type": "code",
      "source": [
        "vae.summary()"
      ],
      "metadata": {
        "execution": {
          "iopub.status.busy": "2022-10-14T14:59:13.702370Z",
          "iopub.execute_input": "2022-10-14T14:59:13.703068Z",
          "iopub.status.idle": "2022-10-14T14:59:13.713441Z",
          "shell.execute_reply.started": "2022-10-14T14:59:13.703029Z",
          "shell.execute_reply": "2022-10-14T14:59:13.712183Z"
        },
        "trusted": true,
        "colab": {
          "base_uri": "https://localhost:8080/"
        },
        "id": "YzD5nHwTzGRT",
        "outputId": "12a42c88-2737-49dc-f3af-3cd6e39af2f2"
      },
      "execution_count": 29,
      "outputs": [
        {
          "output_type": "stream",
          "name": "stdout",
          "text": [
            "Model: \"model_2\"\n",
            "__________________________________________________________________________________________________\n",
            " Layer (type)                   Output Shape         Param #     Connected to                     \n",
            "==================================================================================================\n",
            " input_3 (InputLayer)           [(None, 120, 1)]     0           []                               \n",
            "                                                                                                  \n",
            " model (Functional)             [(None, 128),        409356      ['input_3[0][0]']                \n",
            "                                 (None, 128),                                                     \n",
            "                                 (None, 128)]                                                     \n",
            "                                                                                                  \n",
            " model_1 (Functional)           (None, 120, 1)       447937      ['model[0][2]']                  \n",
            "                                                                                                  \n",
            " tf.__operators__.add (TFOpLamb  (None, 128)         0           ['model[0][1]']                  \n",
            " da)                                                                                              \n",
            "                                                                                                  \n",
            " tf.math.square (TFOpLambda)    (None, 128)          0           ['model[0][0]']                  \n",
            "                                                                                                  \n",
            " tf.math.subtract (TFOpLambda)  (None, 128)          0           ['tf.__operators__.add[0][0]',   \n",
            "                                                                  'tf.math.square[0][0]']         \n",
            "                                                                                                  \n",
            " tf.math.exp (TFOpLambda)       (None, 128)          0           ['model[0][1]']                  \n",
            "                                                                                                  \n",
            " tf.math.subtract_1 (TFOpLambda  (None, 128)         0           ['tf.math.subtract[0][0]',       \n",
            " )                                                                'tf.math.exp[0][0]']            \n",
            "                                                                                                  \n",
            " tf.math.reduce_mean (TFOpLambd  ()                  0           ['tf.math.subtract_1[0][0]']     \n",
            " a)                                                                                               \n",
            "                                                                                                  \n",
            " tf.math.multiply (TFOpLambda)  ()                   0           ['tf.math.reduce_mean[0][0]']    \n",
            "                                                                                                  \n",
            " add_loss (AddLoss)             ()                   0           ['tf.math.multiply[0][0]']       \n",
            "                                                                                                  \n",
            "==================================================================================================\n",
            "Total params: 857,293\n",
            "Trainable params: 853,269\n",
            "Non-trainable params: 4,024\n",
            "__________________________________________________________________________________________________\n"
          ]
        }
      ]
    },
    {
      "cell_type": "markdown",
      "source": [
        "#Model compiling and training"
      ],
      "metadata": {
        "id": "5jcLmuYW1_5o"
      }
    },
    {
      "cell_type": "code",
      "source": [
        "# Define our loss functions and optimizers\n",
        "optimizer = tf.keras.optimizers.Adam()\n",
        "loss_metric = tf.keras.metrics.Mean()\n",
        "bce_loss = tf.keras.losses.MeanSquaredError()"
      ],
      "metadata": {
        "execution": {
          "iopub.status.busy": "2022-10-14T14:59:13.715501Z",
          "iopub.execute_input": "2022-10-14T14:59:13.716315Z",
          "iopub.status.idle": "2022-10-14T14:59:13.728356Z",
          "shell.execute_reply.started": "2022-10-14T14:59:13.716278Z",
          "shell.execute_reply": "2022-10-14T14:59:13.727206Z"
        },
        "trusted": true,
        "id": "es5fNv2ZzGRT"
      },
      "execution_count": 30,
      "outputs": []
    },
    {
      "cell_type": "markdown",
      "source": [
        "#Training monitor functions"
      ],
      "metadata": {
        "id": "0_2ix2A12Rcq"
      }
    },
    {
      "cell_type": "code",
      "source": [
        "def generate_and_save_images(model, epoch, step, test_input):\n",
        "    # generate images from the test input\n",
        "    predictions = model.predict(test_input)\n",
        "\n",
        "    # plot the results\n",
        "    fig = plt.figure(figsize=(10,10))\n",
        "\n",
        "    for i in range(predictions.shape[0]):\n",
        "        plt.subplot(4, 4, i+1)\n",
        "        plt.plot(predictions[i, :, 0])\n",
        "      \n",
        "\n",
        "    # tight_layout minimizes the overlap between 2 sub-plots\n",
        "    fig.suptitle(\"epoch: {}, step: {}\".format(epoch, step))\n",
        "    plt.savefig('image_at_epoch_{:04d}_step{:04d}.png'.format(epoch, step))\n",
        "    plt.show()"
      ],
      "metadata": {
        "execution": {
          "iopub.status.busy": "2022-10-14T14:59:13.730105Z",
          "iopub.execute_input": "2022-10-14T14:59:13.731964Z",
          "iopub.status.idle": "2022-10-14T14:59:13.739305Z",
          "shell.execute_reply.started": "2022-10-14T14:59:13.731926Z",
          "shell.execute_reply": "2022-10-14T14:59:13.738187Z"
        },
        "trusted": true,
        "id": "qhCYlGECzGRT"
      },
      "execution_count": 31,
      "outputs": []
    },
    {
      "cell_type": "code",
      "source": [
        "def modified_generate_and_save_images(model, epoch, step, test_input,test_output):\n",
        "  \"\"\"Helper function to plot our 16 images\n",
        "\n",
        "  Args:\n",
        "\n",
        "  model -- the decoder model\n",
        "  epoch -- current epoch number during training\n",
        "  step -- current step number during training\n",
        "  test_input -- random tensor with shape (16, LATENT_DIM)\n",
        "  \"\"\"\n",
        "\n",
        "  # generate images from the test input\n",
        " \n",
        "  predictions = model.predict(test_input)\n",
        " \n",
        "  \n",
        "  # plot the results\n",
        "  fig = plt.figure(figsize=(15,10))\n",
        "\n",
        "  for i in range(8):\n",
        "      plt.subplot(2, 4, i+1)\n",
        "      plt.plot(predictions[i, :, 0],'b--')\n",
        "      plt.plot(test_output[i,:],'r')\n",
        "      #plt.plot(test_input[samples][i,:,0],'g')\n",
        "\n",
        "  # tight_layout minimizes the overlap between 2 sub-plots\n",
        "  fig.suptitle(\"epoch: {}, step: {}\".format(epoch, step))\n",
        "  #plt.savefig('image_at_epoch_{:04d}_step{:04d}.png'.format(epoch, step))\n",
        "  plt.show()"
      ],
      "metadata": {
        "execution": {
          "iopub.status.busy": "2022-10-14T14:59:13.741151Z",
          "iopub.execute_input": "2022-10-14T14:59:13.741904Z",
          "iopub.status.idle": "2022-10-14T14:59:13.752696Z",
          "shell.execute_reply.started": "2022-10-14T14:59:13.741867Z",
          "shell.execute_reply": "2022-10-14T14:59:13.751596Z"
        },
        "trusted": true,
        "id": "XvM5O6p0zGRU"
      },
      "execution_count": 32,
      "outputs": []
    },
    {
      "cell_type": "markdown",
      "source": [
        "#Model Training loop"
      ],
      "metadata": {
        "id": "uOEeulMZ2fQX"
      }
    },
    {
      "cell_type": "code",
      "source": [
        "# Training loop\n",
        "from IPython.display import clear_output\n",
        "# generate random vector as test input to the decoder\n",
        "random_vector_for_generation = tf.random.normal(shape=[16, LATENT_DIM])\n",
        "\n",
        "# number of epochs\n",
        "epochs = 5\n",
        "\n",
        "# initialize the helper function to display outputs from an untrained model\n",
        "#generate_and_save_images(decoder, 0, 0, random_vector_for_generation)\n",
        "\n",
        "for epoch in range(epochs):\n",
        "  print('Start of epoch %d' % (epoch, ))\n",
        "\n",
        "  # iterate over the batches of the dataset\n",
        "  for step ,i in enumerate(zip(train_dataset_ppg ,train_dataset_ecg)) :\n",
        "    with tf.GradientTape() as tape:\n",
        "      # feed a batch to the VAE model\n",
        "      reconstructed = vae(i[0])\n",
        "\n",
        "      # compute reconstruction loss\n",
        "      flattened_inputs = tf.reshape(i[1], shape=[-1])\n",
        "      flattened_outputs = tf.reshape(reconstructed, shape=[-1])\n",
        "      loss = bce_loss(flattened_inputs, flattened_outputs) * 120  # image size (1024 * 1)\n",
        "      \n",
        "      # add KLD regularization loss\n",
        "      loss += sum(vae.losses)\n",
        "\n",
        "    # get the gradients and update the weights\n",
        "    grads = tape.gradient(loss, vae.trainable_weights)\n",
        "    optimizer.apply_gradients(zip(grads, vae.trainable_weights))\n",
        "\n",
        "    # compute the loss metric\n",
        "    loss_metric(loss)\n",
        "\n",
        "    # display outputs every 100 steps\n",
        "    if step % 1000 == 0:\n",
        "      samples = np.random.randint(0 , 57397,8)\n",
        "      clear_output(wait=True)\n",
        "      #generate_and_save_images(decoder, epoch, step, random_vector_for_generation)\n",
        "      modified_generate_and_save_images(vae, epoch, step,PPG_test.values[samples],ECG_test.values[samples])\n",
        "      print('Epoch: %s step: %s mean loss = %s' % (epoch, step, loss_metric.result().numpy()))"
      ],
      "metadata": {
        "execution": {
          "iopub.status.busy": "2022-10-14T14:59:13.754710Z",
          "iopub.execute_input": "2022-10-14T14:59:13.755467Z",
          "iopub.status.idle": "2022-10-14T15:16:50.581818Z",
          "shell.execute_reply.started": "2022-10-14T14:59:13.755433Z",
          "shell.execute_reply": "2022-10-14T15:16:50.578213Z"
        },
        "trusted": true,
        "colab": {
          "base_uri": "https://localhost:8080/",
          "height": 700
        },
        "id": "icQn78uBzGRV",
        "outputId": "c537b3cf-cda3-4176-a1fc-5b9f0009d8ec"
      },
      "execution_count": null,
      "outputs": [
        {
          "output_type": "stream",
          "name": "stdout",
          "text": [
            "1/1 [==============================] - 0s 18ms/step\n"
          ]
        },
        {
          "output_type": "display_data",
          "data": {
            "text/plain": [
              "<Figure size 1080x720 with 8 Axes>"
            ],
            "image/png": "[encoded data removed]"
          },
          "metadata": {
            "needs_background": "light"
          }
        },
        {
          "output_type": "stream",
          "name": "stdout",
          "text": [
            "Epoch: 0 step: 3000 mean loss = 3.12924\n"
          ]
        }
      ]
    },
    {
      "cell_type": "markdown",
      "source": [
        "# Model evaluation"
      ],
      "metadata": {
        "id": "VfwXwRMdBpw7"
      }
    },
    {
      "cell_type": "code",
      "source": [
        "vae.evaluate(test_dataset_ppg,test_dataset_ecg)"
      ],
      "metadata": {
        "colab": {
          "base_uri": "https://localhost:8080/",
          "height": 362
        },
        "id": "qeho2A8dDsBA",
        "outputId": "7607febb-a70f-412a-f146-3b84287405e3"
      },
      "execution_count": null,
      "outputs": [
        {
          "output_type": "error",
          "ename": "RuntimeError",
          "evalue": "ignored",
          "traceback": [
            "\u001b[0;31m---------------------------------------------------------------------------\u001b[0m",
            "\u001b[0;31mRuntimeError\u001b[0m                              Traceback (most recent call last)",
            "\u001b[0;32m<ipython-input-78-decdcfa966cf>\u001b[0m in \u001b[0;36m<module>\u001b[0;34m\u001b[0m\n\u001b[1;32m      1\u001b[0m \u001b[0mtest_dataset_ppg\u001b[0m \u001b[0;34m=\u001b[0m \u001b[0mget_dataset\u001b[0m\u001b[0;34m(\u001b[0m\u001b[0mppg_test\u001b[0m\u001b[0;34m,\u001b[0m\u001b[0;32mTrue\u001b[0m\u001b[0;34m)\u001b[0m\u001b[0;34m\u001b[0m\u001b[0;34m\u001b[0m\u001b[0m\n\u001b[1;32m      2\u001b[0m \u001b[0mtest_dataset_ecg\u001b[0m \u001b[0;34m=\u001b[0m \u001b[0mget_dataset\u001b[0m\u001b[0;34m(\u001b[0m\u001b[0mecg_test\u001b[0m\u001b[0;34m,\u001b[0m\u001b[0;32mTrue\u001b[0m\u001b[0;34m)\u001b[0m\u001b[0;34m\u001b[0m\u001b[0;34m\u001b[0m\u001b[0m\n\u001b[0;32m----> 3\u001b[0;31m \u001b[0mvae\u001b[0m\u001b[0;34m.\u001b[0m\u001b[0mevaluate\u001b[0m\u001b[0;34m(\u001b[0m\u001b[0mtest_dataset_ppg\u001b[0m\u001b[0;34m,\u001b[0m\u001b[0mtest_dataset_ecg\u001b[0m\u001b[0;34m)\u001b[0m\u001b[0;34m\u001b[0m\u001b[0;34m\u001b[0m\u001b[0m\n\u001b[0m",
            "\u001b[0;32m/usr/local/lib/python3.7/dist-packages/keras/utils/traceback_utils.py\u001b[0m in \u001b[0;36merror_handler\u001b[0;34m(*args, **kwargs)\u001b[0m\n\u001b[1;32m     65\u001b[0m     \u001b[0;32mexcept\u001b[0m \u001b[0mException\u001b[0m \u001b[0;32mas\u001b[0m \u001b[0me\u001b[0m\u001b[0;34m:\u001b[0m  \u001b[0;31m# pylint: disable=broad-except\u001b[0m\u001b[0;34m\u001b[0m\u001b[0;34m\u001b[0m\u001b[0m\n\u001b[1;32m     66\u001b[0m       \u001b[0mfiltered_tb\u001b[0m \u001b[0;34m=\u001b[0m \u001b[0m_process_traceback_frames\u001b[0m\u001b[0;34m(\u001b[0m\u001b[0me\u001b[0m\u001b[0;34m.\u001b[0m\u001b[0m__traceback__\u001b[0m\u001b[0;34m)\u001b[0m\u001b[0;34m\u001b[0m\u001b[0;34m\u001b[0m\u001b[0m\n\u001b[0;32m---> 67\u001b[0;31m       \u001b[0;32mraise\u001b[0m \u001b[0me\u001b[0m\u001b[0;34m.\u001b[0m\u001b[0mwith_traceback\u001b[0m\u001b[0;34m(\u001b[0m\u001b[0mfiltered_tb\u001b[0m\u001b[0;34m)\u001b[0m \u001b[0;32mfrom\u001b[0m \u001b[0;32mNone\u001b[0m\u001b[0;34m\u001b[0m\u001b[0;34m\u001b[0m\u001b[0m\n\u001b[0m\u001b[1;32m     68\u001b[0m     \u001b[0;32mfinally\u001b[0m\u001b[0;34m:\u001b[0m\u001b[0;34m\u001b[0m\u001b[0;34m\u001b[0m\u001b[0m\n\u001b[1;32m     69\u001b[0m       \u001b[0;32mdel\u001b[0m \u001b[0mfiltered_tb\u001b[0m\u001b[0;34m\u001b[0m\u001b[0;34m\u001b[0m\u001b[0m\n",
            "\u001b[0;32m/usr/local/lib/python3.7/dist-packages/keras/engine/training.py\u001b[0m in \u001b[0;36m_assert_compile_was_called\u001b[0;34m(self)\u001b[0m\n\u001b[1;32m   3158\u001b[0m     \u001b[0;31m# (i.e. whether the model is built and its inputs/outputs are set).\u001b[0m\u001b[0;34m\u001b[0m\u001b[0;34m\u001b[0m\u001b[0;34m\u001b[0m\u001b[0m\n\u001b[1;32m   3159\u001b[0m     \u001b[0;32mif\u001b[0m \u001b[0;32mnot\u001b[0m \u001b[0mself\u001b[0m\u001b[0;34m.\u001b[0m\u001b[0m_is_compiled\u001b[0m\u001b[0;34m:\u001b[0m\u001b[0;34m\u001b[0m\u001b[0;34m\u001b[0m\u001b[0m\n\u001b[0;32m-> 3160\u001b[0;31m       raise RuntimeError('You must compile your model before '\n\u001b[0m\u001b[1;32m   3161\u001b[0m                          \u001b[0;34m'training/testing. '\u001b[0m\u001b[0;34m\u001b[0m\u001b[0;34m\u001b[0m\u001b[0m\n\u001b[1;32m   3162\u001b[0m                          'Use `model.compile(optimizer, loss)`.')\n",
            "\u001b[0;31mRuntimeError\u001b[0m: You must compile your model before training/testing. Use `model.compile(optimizer, loss)`."
          ]
        }
      ]
    },
    {
      "cell_type": "code",
      "source": [
        "prediction = vae.predict(test_dataset_ppg)"
      ],
      "metadata": {
        "colab": {
          "base_uri": "https://localhost:8080/"
        },
        "id": "E50st14eETM3",
        "outputId": "f6e46263-7ffb-42d4-8880-03d8c5b53e52"
      },
      "execution_count": null,
      "outputs": [
        {
          "output_type": "stream",
          "name": "stdout",
          "text": [
            "4323/4323 [==============================] - 18s 4ms/step\n"
          ]
        }
      ]
    },
    {
      "cell_type": "code",
      "source": [
        " prediction.shape"
      ],
      "metadata": {
        "colab": {
          "base_uri": "https://localhost:8080/"
        },
        "id": "YIiLg1WlEjL7",
        "outputId": "4a38852c-25c4-4004-c16d-2687d566393f"
      },
      "execution_count": null,
      "outputs": [
        {
          "output_type": "execute_result",
          "data": {
            "text/plain": [
              "(138314, 120, 1)"
            ]
          },
          "metadata": {},
          "execution_count": 81
        }
      ]
    },
    {
      "cell_type": "code",
      "source": [
        "plt.plot(prediction[10000,:,0])"
      ],
      "metadata": {
        "colab": {
          "base_uri": "https://localhost:8080/",
          "height": 283
        },
        "id": "6blbabhzEh7x",
        "outputId": "d9f7140a-7619-44cc-c90b-a3a25d3b2df8"
      },
      "execution_count": null,
      "outputs": [
        {
          "output_type": "execute_result",
          "data": {
            "text/plain": [
              "[<matplotlib.lines.Line2D at 0x7f9f5036a3d0>]"
            ]
          },
          "metadata": {},
          "execution_count": 87
        },
        {
          "output_type": "display_data",
          "data": {
            "text/plain": [
              "<Figure size 432x288 with 1 Axes>"
            ],
            "image/png": "[encoded data removed]"
          },
          "metadata": {
            "needs_background": "light"
          }
        }
      ]
    },
    {
      "cell_type": "code",
      "source": [
        "vae.save('/content/gdrive/MyDrive/most cleaned version beats/vae_try_to_complete')"
      ],
      "metadata": {
        "execution": {
          "iopub.status.busy": "2022-10-14T15:17:01.172868Z",
          "iopub.execute_input": "2022-10-14T15:17:01.173264Z",
          "iopub.status.idle": "2022-10-14T15:17:07.151984Z",
          "shell.execute_reply.started": "2022-10-14T15:17:01.173224Z",
          "shell.execute_reply": "2022-10-14T15:17:07.150994Z"
        },
        "trusted": true,
        "colab": {
          "base_uri": "https://localhost:8080/"
        },
        "id": "-g2dN5YMzGRX",
        "outputId": "8fd05fed-69be-4965-a857-9b4b3f48f0ce"
      },
      "execution_count": null,
      "outputs": [
        {
          "output_type": "stream",
          "name": "stderr",
          "text": [
            "WARNING:tensorflow:Compiled the loaded model, but the compiled metrics have yet to be built. `model.compile_metrics` will be empty until you train or evaluate the model.\n",
            "WARNING:absl:Found untraced functions such as _jit_compiled_convolution_op, _jit_compiled_convolution_op, _jit_compiled_convolution_op, _jit_compiled_convolution_op, _jit_compiled_convolution_op while saving (showing 5 of 9). These functions will not be directly callable after loading.\n"
          ]
        }
      ]
    },
    {
      "cell_type": "code",
      "source": [
        "import keras \n",
        "model  = keras.models.load_model('/content/gdrive/MyDrive/most cleaned version beats/vae_try_to_complete')"
      ],
      "metadata": {
        "colab": {
          "base_uri": "https://localhost:8080/"
        },
        "id": "ZWBc6-Y7zGRX",
        "outputId": "94c2f6a2-870f-4ed5-dcf0-24dd9e73dbf2"
      },
      "execution_count": null,
      "outputs": [
        {
          "output_type": "stream",
          "name": "stderr",
          "text": [
            "WARNING:tensorflow:No training configuration found in save file, so the model was *not* compiled. Compile it manually.\n"
          ]
        }
      ]
    },
    {
      "cell_type": "code",
      "source": [
        "model.summary()"
      ],
      "metadata": {
        "colab": {
          "base_uri": "https://localhost:8080/"
        },
        "id": "SuW8BG5iOQzo",
        "outputId": "4a457d0e-eded-4ca0-efee-1ece16c08983"
      },
      "execution_count": null,
      "outputs": [
        {
          "output_type": "stream",
          "name": "stdout",
          "text": [
            "Model: \"model_2\"\n",
            "__________________________________________________________________________________________________\n",
            " Layer (type)                   Output Shape         Param #     Connected to                     \n",
            "==================================================================================================\n",
            " input_3 (InputLayer)           [(None, 120, 1)]     0           []                               \n",
            "                                                                                                  \n",
            " model (Functional)             [(None, 128),        409356      ['input_3[0][0]']                \n",
            "                                 (None, 128),                                                     \n",
            "                                 (None, 128)]                                                     \n",
            "                                                                                                  \n",
            " model_1 (Functional)           (None, 120, 1)       447937      ['model[0][2]']                  \n",
            "                                                                                                  \n",
            " tf.__operators__.add (TFOpLamb  (None, 128)         0           ['model[0][1]']                  \n",
            " da)                                                                                              \n",
            "                                                                                                  \n",
            " tf.math.square (TFOpLambda)    (None, 128)          0           ['model[0][0]']                  \n",
            "                                                                                                  \n",
            " tf.math.subtract (TFOpLambda)  (None, 128)          0           ['tf.__operators__.add[0][0]',   \n",
            "                                                                  'tf.math.square[0][0]']         \n",
            "                                                                                                  \n",
            " tf.math.exp (TFOpLambda)       (None, 128)          0           ['model[0][1]']                  \n",
            "                                                                                                  \n",
            " tf.math.subtract_1 (TFOpLambda  (None, 128)         0           ['tf.math.subtract[0][0]',       \n",
            " )                                                                'tf.math.exp[0][0]']            \n",
            "                                                                                                  \n",
            " tf.math.reduce_mean (TFOpLambd  ()                  0           ['tf.math.subtract_1[0][0]']     \n",
            " a)                                                                                               \n",
            "                                                                                                  \n",
            " tf.math.multiply (TFOpLambda)  ()                   0           ['tf.math.reduce_mean[0][0]']    \n",
            "                                                                                                  \n",
            " add_loss (AddLoss)             ()                   0           ['tf.math.multiply[0][0]']       \n",
            "                                                                                                  \n",
            "==================================================================================================\n",
            "Total params: 857,293\n",
            "Trainable params: 853,269\n",
            "Non-trainable params: 4,024\n",
            "__________________________________________________________________________________________________\n"
          ]
        }
      ]
    },
    {
      "cell_type": "code",
      "source": [],
      "metadata": {
        "id": "mQpK6f9VOXXo"
      },
      "execution_count": null,
      "outputs": []
    },
    {
      "cell_type": "code",
      "source": [
        "ppg0 = pd.read_csv(\"/content/gdrive/MyDrive/most cleaned version beats/ppg_class_0.csv\",names = np.arange(120))\n",
        "ecg0 = pd.read_csv(\"/content/gdrive/MyDrive/most cleaned version beats/ecg_class_0.csv\",names = np.arange(120))\n",
        "ppg0_dataset = get_dataset(ppg_test,True)\n",
        "ecg0_dataset = get_dataset(ecg_test,True)"
      ],
      "metadata": {
        "id": "EmQKm5LdEvbb"
      },
      "execution_count": null,
      "outputs": []
    }
  ]
}